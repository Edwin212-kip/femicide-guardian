{
 "cells": [
  {
   "cell_type": "markdown",
   "metadata": {},
   "source": [
    "Femicide , the gender-based killing of women , is an escalating crisis in Kenya.\n",
    "Despite frequent media reports, data science has not been widely used to uncover trends,\n",
    "identify hotspots, or support prevention efforts"
   ]
  },
  {
   "cell_type": "markdown",
   "metadata": {},
   "source": [
    "# Goal \n",
    "To analyze and predict femicide patterns in Kenya using available data.\n"
   ]
  },
  {
   "cell_type": "markdown",
   "metadata": {},
   "source": [
    " # Project objectives\n",
    "- To perform comprehensive data preprocessing and validation on the femicide dataset, ensuring accuracy, completeness, and consistency for meaningful analysis.\n",
    "\n",
    "- To conduct advanced exploratory data analysis (EDA), including temporal trend detection, geospatial mapping, and demographic profiling of both victims and perpetrators.\n",
    "\n",
    "- To identify key socio-demographic and situational factors associated with femicide cases through statistical inference and feature correlation analysis.\n",
    "\n",
    "- To develop and evaluate machine learning models capable of predicting the likelihood or severity of a femicide case, using classification algorithms such as Logistic Regression, Random Forest, and Gradient Boosting.\n",
    "\n",
    "- To apply natural language processing (NLP) techniques to extract actionable insights from narrative case summaries or media reports, including topic modeling and sentiment analysis (if text data is available).\n",
    "\n",
    "- To design and deploy an interactive, user-friendly dashboard using Streamlit, enabling stakeholders such as NGOs, researchers, and policymakers to explore femicide patterns dynamically.\n",
    "\n",
    "- To document all processes and findings in a reproducible, ethical, and transparent manner, aligning with data for good practices and promoting responsible AI in gender-based violence research.\n"
   ]
  },
  {
   "cell_type": "markdown",
   "metadata": {},
   "source": [
    "# Stakeholders\n",
    "- NGOs / Gender Rights Organizations: Advocacy, public campaigns\n",
    "- County Governments: Targeted interventions, policy design\n",
    "- Journalists & Activists: Case insights, trend verification\n",
    "- Researchers: Academic & policy research\n",
    "- General Public: Awareness through visualizations"
   ]
  },
  {
   "cell_type": "markdown",
   "metadata": {},
   "source": [
    " ## Importing Libraries and Loading Data"
   ]
  },
  {
   "cell_type": "code",
   "execution_count": 1,
   "metadata": {},
   "outputs": [
    {
     "name": "stderr",
     "output_type": "stream",
     "text": [
      "[nltk_data] Downloading package punkt to\n",
      "[nltk_data]     C:\\Users\\HP\\AppData\\Roaming\\nltk_data...\n",
      "[nltk_data]   Package punkt is already up-to-date!\n",
      "[nltk_data] Downloading package stopwords to\n",
      "[nltk_data]     C:\\Users\\HP\\AppData\\Roaming\\nltk_data...\n",
      "[nltk_data]   Package stopwords is already up-to-date!\n",
      "[nltk_data] Downloading package wordnet to\n",
      "[nltk_data]     C:\\Users\\HP\\AppData\\Roaming\\nltk_data...\n",
      "[nltk_data]   Package wordnet is already up-to-date!\n",
      "[nltk_data] Downloading package omw-1.4 to\n",
      "[nltk_data]     C:\\Users\\HP\\AppData\\Roaming\\nltk_data...\n",
      "[nltk_data]   Package omw-1.4 is already up-to-date!\n"
     ]
    }
   ],
   "source": [
    "import pandas as pd\n",
    "import matplotlib.pyplot as plt\n",
    "import seaborn as sns\n",
    "import numpy as np\n",
    "\n",
    "import nltk\n",
    "nltk.download('punkt')\n",
    "nltk.download('stopwords')\n",
    "nltk.download('wordnet')\n",
    "nltk.download('omw-1.4')\n",
    "\n",
    "from sklearn.model_selection import train_test_split\n",
    "from sklearn.preprocessing import LabelEncoder\n",
    "from sklearn.metrics import classification_report, confusion_matrix, roc_auc_score, RocCurveDisplay\n",
    "from sklearn.linear_model import LogisticRegression\n",
    "from sklearn.ensemble import RandomForestClassifier, GradientBoostingClassifier\n",
    "\n",
    "import warnings\n",
    "warnings.filterwarnings('ignore')"
   ]
  },
  {
   "cell_type": "code",
   "execution_count": 26,
   "metadata": {},
   "outputs": [],
   "source": [
    "# Load the Excel file\n",
    "df = pd.read_excel('kenya-femicide-data_2016_dec2023 (3).xlsx')"
   ]
  },
  {
   "cell_type": "code",
   "execution_count": 3,
   "metadata": {},
   "outputs": [
    {
     "data": {
      "text/plain": [
       "(507, 24)"
      ]
     },
     "execution_count": 3,
     "metadata": {},
     "output_type": "execute_result"
    }
   ],
   "source": [
    "df.shape"
   ]
  },
  {
   "cell_type": "code",
   "execution_count": 4,
   "metadata": {},
   "outputs": [
    {
     "data": {
      "text/html": [
       "<div>\n",
       "<style scoped>\n",
       "    .dataframe tbody tr th:only-of-type {\n",
       "        vertical-align: middle;\n",
       "    }\n",
       "\n",
       "    .dataframe tbody tr th {\n",
       "        vertical-align: top;\n",
       "    }\n",
       "\n",
       "    .dataframe thead th {\n",
       "        text-align: right;\n",
       "    }\n",
       "</style>\n",
       "<table border=\"1\" class=\"dataframe\">\n",
       "  <thead>\n",
       "    <tr style=\"text-align: right;\">\n",
       "      <th></th>\n",
       "      <th>url</th>\n",
       "      <th>title</th>\n",
       "      <th>author_name</th>\n",
       "      <th>medium</th>\n",
       "      <th>country_name</th>\n",
       "      <th>text</th>\n",
       "      <th>published_date</th>\n",
       "      <th>type of murder</th>\n",
       "      <th>name of victim</th>\n",
       "      <th>Age</th>\n",
       "      <th>...</th>\n",
       "      <th>Type of femicide</th>\n",
       "      <th>Murder Scene</th>\n",
       "      <th>Mode of killing</th>\n",
       "      <th>Circumstance</th>\n",
       "      <th>Status on article date</th>\n",
       "      <th>Court date (first appearance)</th>\n",
       "      <th>verdict date</th>\n",
       "      <th>Verdict</th>\n",
       "      <th>Years of sentence</th>\n",
       "      <th>Days to verdict</th>\n",
       "    </tr>\n",
       "  </thead>\n",
       "  <tbody>\n",
       "    <tr>\n",
       "      <th>0</th>\n",
       "      <td>http://www.standardmedia.co.ke/article/2000218...</td>\n",
       "      <td>Meru man who killed drunk wife sentenced to hang</td>\n",
       "      <td>Lydiah Nyawira</td>\n",
       "      <td>Standard Digital (Kenya)</td>\n",
       "      <td>Kenya</td>\n",
       "      <td>On August 12, 2005 at around 7pm, Joyce Gacher...</td>\n",
       "      <td>2016-10-05</td>\n",
       "      <td>Femicide</td>\n",
       "      <td>Dorcas Kaguri</td>\n",
       "      <td>Unknown</td>\n",
       "      <td>...</td>\n",
       "      <td>Intimate</td>\n",
       "      <td>home</td>\n",
       "      <td>blunt force</td>\n",
       "      <td>Argument</td>\n",
       "      <td>Unknown</td>\n",
       "      <td>2005-08-13 00:00:00</td>\n",
       "      <td>2016-06-24 00:00:00</td>\n",
       "      <td>Guilty</td>\n",
       "      <td>Death</td>\n",
       "      <td>4061.0</td>\n",
       "    </tr>\n",
       "    <tr>\n",
       "      <th>1</th>\n",
       "      <td>http://www.standardmedia.co.ke/article/2001300...</td>\n",
       "      <td>Court: Kakamega man guilty of raping, killing ...</td>\n",
       "      <td>Jack Murima</td>\n",
       "      <td>Standard Digital (Kenya)</td>\n",
       "      <td>Kenya</td>\n",
       "      <td>Jack Murima - Sun, 28. October 2018 12:54 PM -...</td>\n",
       "      <td>2018-10-29</td>\n",
       "      <td>Femicide</td>\n",
       "      <td>Selina Ikambi Anasi</td>\n",
       "      <td>79</td>\n",
       "      <td>...</td>\n",
       "      <td>Non-intimate</td>\n",
       "      <td>Public Space</td>\n",
       "      <td>hacked</td>\n",
       "      <td>Unknown</td>\n",
       "      <td>Unknown</td>\n",
       "      <td>Unknown</td>\n",
       "      <td>2018-10-28 00:00:00</td>\n",
       "      <td>guilty</td>\n",
       "      <td>awaiting ruling</td>\n",
       "      <td>2817.0</td>\n",
       "    </tr>\n",
       "    <tr>\n",
       "      <th>2</th>\n",
       "      <td>http://www.standardmedia.co.ke/article/2001241...</td>\n",
       "      <td>My wife 'died from fall in fight over volume o...</td>\n",
       "      <td>Kamau Muthoni</td>\n",
       "      <td>Standard Digital (Kenya)</td>\n",
       "      <td>Kenya</td>\n",
       "      <td>Former journalist Moses Dola Otieno yesterday ...</td>\n",
       "      <td>2017-05-25</td>\n",
       "      <td>Femicide</td>\n",
       "      <td>Wambui Kabiru</td>\n",
       "      <td>Unknown</td>\n",
       "      <td>...</td>\n",
       "      <td>Intimate</td>\n",
       "      <td>home</td>\n",
       "      <td>blunt force</td>\n",
       "      <td>Argument</td>\n",
       "      <td>Unknown</td>\n",
       "      <td>Unknown</td>\n",
       "      <td>2018-10-05 00:00:00</td>\n",
       "      <td>guilty</td>\n",
       "      <td>10</td>\n",
       "      <td>2714.0</td>\n",
       "    </tr>\n",
       "    <tr>\n",
       "      <th>3</th>\n",
       "      <td>http://www.nation.co.ke/news/Kabogo-cleared-Me...</td>\n",
       "      <td>Kabogo cleared in varsity student's murder case</td>\n",
       "      <td>ELISHA OTIENO</td>\n",
       "      <td>Daily Nation (Kenya)</td>\n",
       "      <td>Kenya</td>\n",
       "      <td>Kiambu Governor Kabogo and five others adverse...</td>\n",
       "      <td>2016-10-07</td>\n",
       "      <td>Femicide</td>\n",
       "      <td>Mercy Keino</td>\n",
       "      <td>Unknown</td>\n",
       "      <td>...</td>\n",
       "      <td>Unknown</td>\n",
       "      <td>Public Space</td>\n",
       "      <td>Unknown</td>\n",
       "      <td>Unknown</td>\n",
       "      <td>Unknown</td>\n",
       "      <td>Unknown</td>\n",
       "      <td>2016-10-07 00:00:00</td>\n",
       "      <td>Not Guilty</td>\n",
       "      <td>Freed</td>\n",
       "      <td>1939.0</td>\n",
       "    </tr>\n",
       "    <tr>\n",
       "      <th>4</th>\n",
       "      <td>http://www.mediamaxnetwork.co.ke/news/pastor-t...</td>\n",
       "      <td>Pastor to serve 25 years in jail for defiling,...</td>\n",
       "      <td>People Daily</td>\n",
       "      <td>MediaMax Network</td>\n",
       "      <td>Kenya</td>\n",
       "      <td>Musa Wekesa A pastor from Kitale has been sent...</td>\n",
       "      <td>2019-05-25</td>\n",
       "      <td>Femicide</td>\n",
       "      <td>Scholastica Mmbihi</td>\n",
       "      <td>Unknown</td>\n",
       "      <td>...</td>\n",
       "      <td>Unknown</td>\n",
       "      <td>home</td>\n",
       "      <td>stabbed</td>\n",
       "      <td>Argument</td>\n",
       "      <td>Unknown</td>\n",
       "      <td>Unknown</td>\n",
       "      <td>2019-05-25 00:00:00</td>\n",
       "      <td>guilty</td>\n",
       "      <td>25</td>\n",
       "      <td>2879.0</td>\n",
       "    </tr>\n",
       "  </tbody>\n",
       "</table>\n",
       "<p>5 rows × 24 columns</p>\n",
       "</div>"
      ],
      "text/plain": [
       "                                                 url  \\\n",
       "0  http://www.standardmedia.co.ke/article/2000218...   \n",
       "1  http://www.standardmedia.co.ke/article/2001300...   \n",
       "2  http://www.standardmedia.co.ke/article/2001241...   \n",
       "3  http://www.nation.co.ke/news/Kabogo-cleared-Me...   \n",
       "4  http://www.mediamaxnetwork.co.ke/news/pastor-t...   \n",
       "\n",
       "                                               title     author_name  \\\n",
       "0   Meru man who killed drunk wife sentenced to hang  Lydiah Nyawira   \n",
       "1  Court: Kakamega man guilty of raping, killing ...     Jack Murima   \n",
       "2  My wife 'died from fall in fight over volume o...   Kamau Muthoni   \n",
       "3    Kabogo cleared in varsity student's murder case   ELISHA OTIENO   \n",
       "4  Pastor to serve 25 years in jail for defiling,...    People Daily   \n",
       "\n",
       "                     medium country_name  \\\n",
       "0  Standard Digital (Kenya)        Kenya   \n",
       "1  Standard Digital (Kenya)        Kenya   \n",
       "2  Standard Digital (Kenya)        Kenya   \n",
       "3      Daily Nation (Kenya)        Kenya   \n",
       "4          MediaMax Network        Kenya   \n",
       "\n",
       "                                                text published_date  \\\n",
       "0  On August 12, 2005 at around 7pm, Joyce Gacher...     2016-10-05   \n",
       "1  Jack Murima - Sun, 28. October 2018 12:54 PM -...     2018-10-29   \n",
       "2  Former journalist Moses Dola Otieno yesterday ...     2017-05-25   \n",
       "3  Kiambu Governor Kabogo and five others adverse...     2016-10-07   \n",
       "4  Musa Wekesa A pastor from Kitale has been sent...     2019-05-25   \n",
       "\n",
       "  type of murder       name of victim      Age  ... Type of femicide  \\\n",
       "0       Femicide        Dorcas Kaguri  Unknown  ...         Intimate   \n",
       "1       Femicide  Selina Ikambi Anasi       79  ...     Non-intimate   \n",
       "2       Femicide        Wambui Kabiru  Unknown  ...         Intimate   \n",
       "3       Femicide          Mercy Keino  Unknown  ...          Unknown   \n",
       "4       Femicide   Scholastica Mmbihi  Unknown  ...          Unknown   \n",
       "\n",
       "   Murder Scene Mode of killing Circumstance Status on article date  \\\n",
       "0          home     blunt force     Argument                Unknown   \n",
       "1  Public Space          hacked      Unknown                Unknown   \n",
       "2          home     blunt force     Argument                Unknown   \n",
       "3  Public Space         Unknown      Unknown                Unknown   \n",
       "4          home         stabbed     Argument                Unknown   \n",
       "\n",
       "  Court date (first appearance)         verdict date     Verdict  \\\n",
       "0           2005-08-13 00:00:00  2016-06-24 00:00:00      Guilty   \n",
       "1                       Unknown  2018-10-28 00:00:00      guilty   \n",
       "2                       Unknown  2018-10-05 00:00:00      guilty   \n",
       "3                       Unknown  2016-10-07 00:00:00  Not Guilty   \n",
       "4                       Unknown  2019-05-25 00:00:00      guilty   \n",
       "\n",
       "  Years of sentence Days to verdict  \n",
       "0             Death          4061.0  \n",
       "1   awaiting ruling          2817.0  \n",
       "2                10          2714.0  \n",
       "3             Freed          1939.0  \n",
       "4                25          2879.0  \n",
       "\n",
       "[5 rows x 24 columns]"
      ]
     },
     "execution_count": 4,
     "metadata": {},
     "output_type": "execute_result"
    }
   ],
   "source": [
    "#previewing the dataset\n",
    "df.head()"
   ]
  },
  {
   "cell_type": "code",
   "execution_count": 5,
   "metadata": {},
   "outputs": [
    {
     "name": "stdout",
     "output_type": "stream",
     "text": [
      "<class 'pandas.core.frame.DataFrame'>\n",
      "RangeIndex: 507 entries, 0 to 506\n",
      "Data columns (total 24 columns):\n",
      " #   Column                         Non-Null Count  Dtype         \n",
      "---  ------                         --------------  -----         \n",
      " 0   url                            507 non-null    object        \n",
      " 1   title                          479 non-null    object        \n",
      " 2   author_name                    473 non-null    object        \n",
      " 3   medium                         495 non-null    object        \n",
      " 4   country_name                   492 non-null    object        \n",
      " 5   text                           468 non-null    object        \n",
      " 6   published_date                 479 non-null    datetime64[ns]\n",
      " 7   type of murder                 507 non-null    object        \n",
      " 8   name of victim                 507 non-null    object        \n",
      " 9   Age                            507 non-null    object        \n",
      " 10  date of murder                 507 non-null    object        \n",
      " 11  Location                       505 non-null    object        \n",
      " 12  name of suspect                468 non-null    object        \n",
      " 13  suspect relationship           505 non-null    object        \n",
      " 14  Type of femicide               448 non-null    object        \n",
      " 15  Murder Scene                   507 non-null    object        \n",
      " 16  Mode of killing                507 non-null    object        \n",
      " 17  Circumstance                   438 non-null    object        \n",
      " 18  Status on article date         436 non-null    object        \n",
      " 19  Court date (first appearance)  408 non-null    object        \n",
      " 20  verdict date                   507 non-null    object        \n",
      " 21  Verdict                        406 non-null    object        \n",
      " 22  Years of sentence              405 non-null    object        \n",
      " 23  Days to verdict                36 non-null     float64       \n",
      "dtypes: datetime64[ns](1), float64(1), object(22)\n",
      "memory usage: 95.2+ KB\n"
     ]
    }
   ],
   "source": [
    "# Dataset Overview and Information\n",
    "df.info()"
   ]
  },
  {
   "cell_type": "markdown",
   "metadata": {},
   "source": [
    "##  Data Cleaning"
   ]
  },
  {
   "cell_type": "code",
   "execution_count": 6,
   "metadata": {},
   "outputs": [
    {
     "data": {
      "text/plain": [
       "['url',\n",
       " 'title',\n",
       " 'author_name',\n",
       " 'medium',\n",
       " 'country_name',\n",
       " 'text',\n",
       " 'published_date',\n",
       " 'type of murder',\n",
       " 'name of victim',\n",
       " 'Age',\n",
       " 'date of murder',\n",
       " 'Location',\n",
       " 'name of suspect',\n",
       " 'suspect relationship',\n",
       " 'Type of femicide',\n",
       " 'Murder Scene',\n",
       " 'Mode of killing',\n",
       " 'Circumstance',\n",
       " 'Status on article date',\n",
       " 'Court date (first appearance)',\n",
       " 'verdict date',\n",
       " 'Verdict',\n",
       " 'Years of sentence',\n",
       " 'Days to verdict']"
      ]
     },
     "execution_count": 6,
     "metadata": {},
     "output_type": "execute_result"
    }
   ],
   "source": [
    "# Preview column names\n",
    "df.columns.tolist()"
   ]
  },
  {
   "cell_type": "code",
   "execution_count": 7,
   "metadata": {},
   "outputs": [],
   "source": [
    "# Convert 'published_date', 'date_of_murder', and 'verdict_date' to datetime\n",
    "df['published_date'] = pd.to_datetime(df['published_date'], errors='coerce')\n",
    "df['date of murder'] = pd.to_datetime(df['date of murder'], errors='coerce')\n",
    "df['verdict date'] = pd.to_datetime(df['verdict date'], errors='coerce')"
   ]
  },
  {
   "cell_type": "code",
   "execution_count": 8,
   "metadata": {},
   "outputs": [],
   "source": [
    "#  convert to numeric, set errors to NaN\n",
    "df['Age'] = pd.to_numeric(df['Age'], errors='coerce')\n"
   ]
  },
  {
   "cell_type": "code",
   "execution_count": 9,
   "metadata": {},
   "outputs": [
    {
     "data": {
      "text/plain": [
       "Days to verdict                  471\n",
       "verdict date                     471\n",
       "Age                              195\n",
       "Years of sentence                102\n",
       "Verdict                          101\n",
       "Court date (first appearance)     99\n",
       "Status on article date            71\n",
       "Circumstance                      69\n",
       "Type of femicide                  59\n",
       "name of suspect                   39\n",
       "text                              39\n",
       "author_name                       34\n",
       "published_date                    28\n",
       "title                             28\n",
       "country_name                      15\n",
       "date of murder                    14\n",
       "medium                            12\n",
       "Location                           2\n",
       "suspect relationship               2\n",
       "type of murder                     0\n",
       "name of victim                     0\n",
       "Murder Scene                       0\n",
       "Mode of killing                    0\n",
       "url                                0\n",
       "dtype: int64"
      ]
     },
     "execution_count": 9,
     "metadata": {},
     "output_type": "execute_result"
    }
   ],
   "source": [
    "# Check for missing values\n",
    "missing = df.isnull().sum().sort_values(ascending=False)\n",
    "missing"
   ]
  },
  {
   "cell_type": "code",
   "execution_count": 10,
   "metadata": {},
   "outputs": [],
   "source": [
    "#drop not so important columns\n",
    "df.drop(['url','title', 'author_name', 'name of victim', 'medium', 'Status on article date', 'Days to verdict', 'name of suspect', 'Years of sentence','verdict date', 'Court date (first appearance)'], axis=1, inplace=True)"
   ]
  },
  {
   "cell_type": "code",
   "execution_count": 11,
   "metadata": {},
   "outputs": [],
   "source": [
    "# drop rows with missing key data \n",
    "df = df.dropna(subset=['date of murder', 'Location', 'Circumstance', 'Verdict'])\n"
   ]
  },
  {
   "cell_type": "code",
   "execution_count": 12,
   "metadata": {},
   "outputs": [],
   "source": [
    "# Fill missing values \n",
    "df['suspect relationship'] = df['suspect relationship'].fillna('mode')\n",
    "df['Age'] = df['Age'].fillna('mode')\n",
    "df['Type of femicide'] = df['Type of femicide'].fillna('mode')\n"
   ]
  },
  {
   "cell_type": "code",
   "execution_count": 13,
   "metadata": {},
   "outputs": [
    {
     "data": {
      "text/plain": [
       "Verdict                 0\n",
       "Circumstance            0\n",
       "Mode of killing         0\n",
       "Murder Scene            0\n",
       "Type of femicide        0\n",
       "suspect relationship    0\n",
       "Location                0\n",
       "date of murder          0\n",
       "Age                     0\n",
       "type of murder          0\n",
       "published_date          0\n",
       "text                    0\n",
       "country_name            0\n",
       "dtype: int64"
      ]
     },
     "execution_count": 13,
     "metadata": {},
     "output_type": "execute_result"
    }
   ],
   "source": [
    "missing = df.isnull().sum().sort_values(ascending=False)\n",
    "missing"
   ]
  },
  {
   "cell_type": "code",
   "execution_count": 14,
   "metadata": {},
   "outputs": [
    {
     "name": "stdout",
     "output_type": "stream",
     "text": [
      "country_name                    object\n",
      "text                            object\n",
      "published_date          datetime64[ns]\n",
      "type of murder                  object\n",
      "Age                             object\n",
      "date of murder          datetime64[ns]\n",
      "Location                        object\n",
      "suspect relationship            object\n",
      "Type of femicide                object\n",
      "Murder Scene                    object\n",
      "Mode of killing                 object\n",
      "Circumstance                    object\n",
      "Verdict                         object\n",
      "dtype: object\n"
     ]
    }
   ],
   "source": [
    "# Confirm data types and clean preview\n",
    "print(df.dtypes)"
   ]
  },
  {
   "cell_type": "code",
   "execution_count": 15,
   "metadata": {},
   "outputs": [
    {
     "data": {
      "text/plain": [
       "(403, 13)"
      ]
     },
     "execution_count": 15,
     "metadata": {},
     "output_type": "execute_result"
    }
   ],
   "source": [
    "df.shape"
   ]
  },
  {
   "cell_type": "code",
   "execution_count": 20,
   "metadata": {},
   "outputs": [
    {
     "data": {
      "text/html": [
       "<div>\n",
       "<style scoped>\n",
       "    .dataframe tbody tr th:only-of-type {\n",
       "        vertical-align: middle;\n",
       "    }\n",
       "\n",
       "    .dataframe tbody tr th {\n",
       "        vertical-align: top;\n",
       "    }\n",
       "\n",
       "    .dataframe thead th {\n",
       "        text-align: right;\n",
       "    }\n",
       "</style>\n",
       "<table border=\"1\" class=\"dataframe\">\n",
       "  <thead>\n",
       "    <tr style=\"text-align: right;\">\n",
       "      <th></th>\n",
       "      <th>country_name</th>\n",
       "      <th>text</th>\n",
       "      <th>published_date</th>\n",
       "      <th>type of murder</th>\n",
       "      <th>Age</th>\n",
       "      <th>date of murder</th>\n",
       "      <th>Location</th>\n",
       "      <th>suspect relationship</th>\n",
       "      <th>Type of femicide</th>\n",
       "      <th>Murder Scene</th>\n",
       "      <th>Mode of killing</th>\n",
       "      <th>Circumstance</th>\n",
       "      <th>Verdict</th>\n",
       "    </tr>\n",
       "  </thead>\n",
       "  <tbody>\n",
       "    <tr>\n",
       "      <th>0</th>\n",
       "      <td>Kenya</td>\n",
       "      <td>On August 12, 2005 at around 7pm, Joyce Gacher...</td>\n",
       "      <td>2016-10-05</td>\n",
       "      <td>Femicide</td>\n",
       "      <td>mode</td>\n",
       "      <td>2005-05-12</td>\n",
       "      <td>Gaintume village, Meru County</td>\n",
       "      <td>Husband</td>\n",
       "      <td>Intimate</td>\n",
       "      <td>home</td>\n",
       "      <td>blunt force</td>\n",
       "      <td>Argument</td>\n",
       "      <td>Guilty</td>\n",
       "    </tr>\n",
       "    <tr>\n",
       "      <th>1</th>\n",
       "      <td>Kenya</td>\n",
       "      <td>Jack Murima - Sun, 28. October 2018 12:54 PM -...</td>\n",
       "      <td>2018-10-29</td>\n",
       "      <td>Femicide</td>\n",
       "      <td>79</td>\n",
       "      <td>2011-02-10</td>\n",
       "      <td>Mituri village, Kakamega county</td>\n",
       "      <td>Family Member</td>\n",
       "      <td>Non-intimate</td>\n",
       "      <td>Public Space</td>\n",
       "      <td>hacked</td>\n",
       "      <td>Unknown</td>\n",
       "      <td>guilty</td>\n",
       "    </tr>\n",
       "    <tr>\n",
       "      <th>2</th>\n",
       "      <td>Kenya</td>\n",
       "      <td>Former journalist Moses Dola Otieno yesterday ...</td>\n",
       "      <td>2017-05-25</td>\n",
       "      <td>Femicide</td>\n",
       "      <td>mode</td>\n",
       "      <td>2011-05-01</td>\n",
       "      <td>Umoja estate, Nairobi county</td>\n",
       "      <td>Husband</td>\n",
       "      <td>Intimate</td>\n",
       "      <td>home</td>\n",
       "      <td>blunt force</td>\n",
       "      <td>Argument</td>\n",
       "      <td>guilty</td>\n",
       "    </tr>\n",
       "    <tr>\n",
       "      <th>3</th>\n",
       "      <td>Kenya</td>\n",
       "      <td>Kiambu Governor Kabogo and five others adverse...</td>\n",
       "      <td>2016-10-07</td>\n",
       "      <td>Femicide</td>\n",
       "      <td>mode</td>\n",
       "      <td>2011-06-17</td>\n",
       "      <td>Waiyaki way, Nairobi county</td>\n",
       "      <td>Stranger/Unknown Relationship</td>\n",
       "      <td>Unknown</td>\n",
       "      <td>Public Space</td>\n",
       "      <td>Unknown</td>\n",
       "      <td>Unknown</td>\n",
       "      <td>Not Guilty</td>\n",
       "    </tr>\n",
       "    <tr>\n",
       "      <th>4</th>\n",
       "      <td>Kenya</td>\n",
       "      <td>Musa Wekesa A pastor from Kitale has been sent...</td>\n",
       "      <td>2019-05-25</td>\n",
       "      <td>Femicide</td>\n",
       "      <td>mode</td>\n",
       "      <td>2011-07-07</td>\n",
       "      <td>Kitale, Trans Nzoia county</td>\n",
       "      <td>Stranger/Unknown Relationship</td>\n",
       "      <td>Unknown</td>\n",
       "      <td>home</td>\n",
       "      <td>stabbed</td>\n",
       "      <td>Argument</td>\n",
       "      <td>guilty</td>\n",
       "    </tr>\n",
       "    <tr>\n",
       "      <th>5</th>\n",
       "      <td>Kenya</td>\n",
       "      <td>A father who killed his wife nine years ago af...</td>\n",
       "      <td>2020-04-29</td>\n",
       "      <td>Femicide</td>\n",
       "      <td>mode</td>\n",
       "      <td>2011-10-04</td>\n",
       "      <td>Majungwani village, Kwale county</td>\n",
       "      <td>husband</td>\n",
       "      <td>Intimate</td>\n",
       "      <td>home</td>\n",
       "      <td>stabbed</td>\n",
       "      <td>jealousy</td>\n",
       "      <td>guilty</td>\n",
       "    </tr>\n",
       "    <tr>\n",
       "      <th>6</th>\n",
       "      <td>Kenya</td>\n",
       "      <td>A court has recommended that former TV news an...</td>\n",
       "      <td>2018-05-22</td>\n",
       "      <td>Femicide</td>\n",
       "      <td>mode</td>\n",
       "      <td>2012-02-12</td>\n",
       "      <td>Santonia court, Nairobi county</td>\n",
       "      <td>Boyfriend</td>\n",
       "      <td>Intimate</td>\n",
       "      <td>home</td>\n",
       "      <td>strangled</td>\n",
       "      <td>Unknown</td>\n",
       "      <td>Unknown</td>\n",
       "    </tr>\n",
       "    <tr>\n",
       "      <th>7</th>\n",
       "      <td>Kenya</td>\n",
       "      <td>In late 2009, James Mulu Mulewa, then aged 21,...</td>\n",
       "      <td>2018-11-30</td>\n",
       "      <td>Femicide</td>\n",
       "      <td>19</td>\n",
       "      <td>2012-02-27</td>\n",
       "      <td>Mathare North, Nairobi county</td>\n",
       "      <td>Boyfriend</td>\n",
       "      <td>Intimate</td>\n",
       "      <td>home</td>\n",
       "      <td>stabbed</td>\n",
       "      <td>Denied sex</td>\n",
       "      <td>guilty</td>\n",
       "    </tr>\n",
       "    <tr>\n",
       "      <th>8</th>\n",
       "      <td>Kenya</td>\n",
       "      <td>A former city pastor convicted of killing his ...</td>\n",
       "      <td>2020-08-11</td>\n",
       "      <td>Femicide</td>\n",
       "      <td>mode</td>\n",
       "      <td>2012-03-09</td>\n",
       "      <td>kawangware, Nairobi county</td>\n",
       "      <td>Boyfriend</td>\n",
       "      <td>Intimate</td>\n",
       "      <td>Public Space</td>\n",
       "      <td>stabbed</td>\n",
       "      <td>Argument</td>\n",
       "      <td>guilty</td>\n",
       "    </tr>\n",
       "    <tr>\n",
       "      <th>9</th>\n",
       "      <td>Kenya</td>\n",
       "      <td>A former banker, who was found guilty of killi...</td>\n",
       "      <td>2019-09-25</td>\n",
       "      <td>Femicide</td>\n",
       "      <td>mode</td>\n",
       "      <td>2012-05-10</td>\n",
       "      <td>Naisambu, Trans Nzoia county</td>\n",
       "      <td>ex-boyfriend</td>\n",
       "      <td>Intimate</td>\n",
       "      <td>Public Space</td>\n",
       "      <td>stabbed</td>\n",
       "      <td>divorce</td>\n",
       "      <td>guilty</td>\n",
       "    </tr>\n",
       "    <tr>\n",
       "      <th>10</th>\n",
       "      <td>Kenya</td>\n",
       "      <td>A court in Machakos on Wednesday acquitted a m...</td>\n",
       "      <td>2021-02-20</td>\n",
       "      <td>Femicide</td>\n",
       "      <td>mode</td>\n",
       "      <td>2012-12-25</td>\n",
       "      <td>Mwala, Machakos county</td>\n",
       "      <td>ex-husband</td>\n",
       "      <td>Intimate</td>\n",
       "      <td>Public Space</td>\n",
       "      <td>stabbed</td>\n",
       "      <td>Argument</td>\n",
       "      <td>Not guilty</td>\n",
       "    </tr>\n",
       "    <tr>\n",
       "      <th>11</th>\n",
       "      <td>Kenya</td>\n",
       "      <td>Susan Wanjiru Kihiu would today be walking the...</td>\n",
       "      <td>2021-03-20</td>\n",
       "      <td>Femicide</td>\n",
       "      <td>22</td>\n",
       "      <td>2013-06-30</td>\n",
       "      <td>King'ori Estate Naivasha, Nakuru county</td>\n",
       "      <td>Friend/Known to victim</td>\n",
       "      <td>Non-intimate</td>\n",
       "      <td>home</td>\n",
       "      <td>stabbed</td>\n",
       "      <td>jealousy</td>\n",
       "      <td>guilty</td>\n",
       "    </tr>\n",
       "    <tr>\n",
       "      <th>12</th>\n",
       "      <td>Kenya</td>\n",
       "      <td>A man has been found guilty of murdering his w...</td>\n",
       "      <td>2019-07-03</td>\n",
       "      <td>Femicide</td>\n",
       "      <td>mode</td>\n",
       "      <td>2013-11-03</td>\n",
       "      <td>Unknown</td>\n",
       "      <td>husband</td>\n",
       "      <td>Intimate</td>\n",
       "      <td>home</td>\n",
       "      <td>other</td>\n",
       "      <td>Unknown</td>\n",
       "      <td>guilty</td>\n",
       "    </tr>\n",
       "    <tr>\n",
       "      <th>13</th>\n",
       "      <td>Kenya</td>\n",
       "      <td>A man killed a 23 year old college girl in Kit...</td>\n",
       "      <td>2020-07-31</td>\n",
       "      <td>Femicide</td>\n",
       "      <td>23</td>\n",
       "      <td>2013-11-14</td>\n",
       "      <td>Kavililo village, Nzauni location in Mwingi We...</td>\n",
       "      <td>Ex-boyfriend</td>\n",
       "      <td>Intimate</td>\n",
       "      <td>Home</td>\n",
       "      <td>stabbed</td>\n",
       "      <td>Unknown</td>\n",
       "      <td>Guilty</td>\n",
       "    </tr>\n",
       "    <tr>\n",
       "      <th>14</th>\n",
       "      <td>Kenya</td>\n",
       "      <td>A GSU officer accused of killing his wife in 2...</td>\n",
       "      <td>2018-03-20</td>\n",
       "      <td>Femicide</td>\n",
       "      <td>mode</td>\n",
       "      <td>2013-12-21</td>\n",
       "      <td>GSU headquaters, Kiambu county</td>\n",
       "      <td>husband</td>\n",
       "      <td>Intimate</td>\n",
       "      <td>home</td>\n",
       "      <td>strangled</td>\n",
       "      <td>Argument</td>\n",
       "      <td>Unknown</td>\n",
       "    </tr>\n",
       "    <tr>\n",
       "      <th>15</th>\n",
       "      <td>Kenya</td>\n",
       "      <td>A 46-year-old man will now serve a life senten...</td>\n",
       "      <td>2018-11-29</td>\n",
       "      <td>Femicide</td>\n",
       "      <td>mode</td>\n",
       "      <td>2014-03-21</td>\n",
       "      <td>Kabitungu village, Kericho county</td>\n",
       "      <td>husband</td>\n",
       "      <td>Intimate</td>\n",
       "      <td>home</td>\n",
       "      <td>strangled</td>\n",
       "      <td>Argument</td>\n",
       "      <td>guilty</td>\n",
       "    </tr>\n",
       "    <tr>\n",
       "      <th>16</th>\n",
       "      <td>Kenya</td>\n",
       "      <td>A former university student has been found gui...</td>\n",
       "      <td>2020-11-18</td>\n",
       "      <td>Femicide</td>\n",
       "      <td>mode</td>\n",
       "      <td>2014-07-11</td>\n",
       "      <td>Alpha House, Juja, Kiambu County</td>\n",
       "      <td>mode</td>\n",
       "      <td>Intimate</td>\n",
       "      <td>Home</td>\n",
       "      <td>burned</td>\n",
       "      <td>Unknown</td>\n",
       "      <td>Guilty</td>\n",
       "    </tr>\n",
       "    <tr>\n",
       "      <th>17</th>\n",
       "      <td>Kenya</td>\n",
       "      <td>A policeman and his wife were early Tuesday fo...</td>\n",
       "      <td>2020-06-29</td>\n",
       "      <td>Femicide</td>\n",
       "      <td>40</td>\n",
       "      <td>2014-07-29</td>\n",
       "      <td>Kamiti Corner in Kasarani</td>\n",
       "      <td>Husband</td>\n",
       "      <td>Intimate</td>\n",
       "      <td>Home</td>\n",
       "      <td>shot</td>\n",
       "      <td>Quarrel</td>\n",
       "      <td>Unknown</td>\n",
       "    </tr>\n",
       "    <tr>\n",
       "      <th>18</th>\n",
       "      <td>Kenya</td>\n",
       "      <td>A man found guilty of murdering his fiancee go...</td>\n",
       "      <td>2020-04-17</td>\n",
       "      <td>Femicide</td>\n",
       "      <td>mode</td>\n",
       "      <td>2014-09-19</td>\n",
       "      <td>Highway Complex Lodge, Migory county</td>\n",
       "      <td>Boyfriend</td>\n",
       "      <td>Intimate</td>\n",
       "      <td>Public Space</td>\n",
       "      <td>stabbed</td>\n",
       "      <td>Unknown</td>\n",
       "      <td>guilty</td>\n",
       "    </tr>\n",
       "    <tr>\n",
       "      <th>19</th>\n",
       "      <td>Kenya</td>\n",
       "      <td>A British national who had been charged with t...</td>\n",
       "      <td>2017-06-08</td>\n",
       "      <td>Femicide</td>\n",
       "      <td>22</td>\n",
       "      <td>2014-11-22</td>\n",
       "      <td>Gigiri, Nairobi county</td>\n",
       "      <td>Boyfriend</td>\n",
       "      <td>Intimate</td>\n",
       "      <td>home</td>\n",
       "      <td>other</td>\n",
       "      <td>Unknown</td>\n",
       "      <td>Unknown</td>\n",
       "    </tr>\n",
       "  </tbody>\n",
       "</table>\n",
       "</div>"
      ],
      "text/plain": [
       "   country_name                                               text  \\\n",
       "0         Kenya  On August 12, 2005 at around 7pm, Joyce Gacher...   \n",
       "1         Kenya  Jack Murima - Sun, 28. October 2018 12:54 PM -...   \n",
       "2         Kenya  Former journalist Moses Dola Otieno yesterday ...   \n",
       "3         Kenya  Kiambu Governor Kabogo and five others adverse...   \n",
       "4         Kenya  Musa Wekesa A pastor from Kitale has been sent...   \n",
       "5         Kenya  A father who killed his wife nine years ago af...   \n",
       "6         Kenya  A court has recommended that former TV news an...   \n",
       "7         Kenya  In late 2009, James Mulu Mulewa, then aged 21,...   \n",
       "8         Kenya  A former city pastor convicted of killing his ...   \n",
       "9         Kenya  A former banker, who was found guilty of killi...   \n",
       "10        Kenya  A court in Machakos on Wednesday acquitted a m...   \n",
       "11        Kenya  Susan Wanjiru Kihiu would today be walking the...   \n",
       "12        Kenya  A man has been found guilty of murdering his w...   \n",
       "13        Kenya  A man killed a 23 year old college girl in Kit...   \n",
       "14        Kenya  A GSU officer accused of killing his wife in 2...   \n",
       "15        Kenya  A 46-year-old man will now serve a life senten...   \n",
       "16        Kenya  A former university student has been found gui...   \n",
       "17        Kenya  A policeman and his wife were early Tuesday fo...   \n",
       "18        Kenya  A man found guilty of murdering his fiancee go...   \n",
       "19        Kenya  A British national who had been charged with t...   \n",
       "\n",
       "   published_date type of murder   Age date of murder  \\\n",
       "0      2016-10-05       Femicide  mode     2005-05-12   \n",
       "1      2018-10-29       Femicide    79     2011-02-10   \n",
       "2      2017-05-25       Femicide  mode     2011-05-01   \n",
       "3      2016-10-07       Femicide  mode     2011-06-17   \n",
       "4      2019-05-25       Femicide  mode     2011-07-07   \n",
       "5      2020-04-29       Femicide  mode     2011-10-04   \n",
       "6      2018-05-22       Femicide  mode     2012-02-12   \n",
       "7      2018-11-30       Femicide    19     2012-02-27   \n",
       "8      2020-08-11       Femicide  mode     2012-03-09   \n",
       "9      2019-09-25       Femicide  mode     2012-05-10   \n",
       "10     2021-02-20       Femicide  mode     2012-12-25   \n",
       "11     2021-03-20       Femicide    22     2013-06-30   \n",
       "12     2019-07-03       Femicide  mode     2013-11-03   \n",
       "13     2020-07-31       Femicide    23     2013-11-14   \n",
       "14     2018-03-20       Femicide  mode     2013-12-21   \n",
       "15     2018-11-29       Femicide  mode     2014-03-21   \n",
       "16     2020-11-18       Femicide  mode     2014-07-11   \n",
       "17     2020-06-29       Femicide    40     2014-07-29   \n",
       "18     2020-04-17       Femicide  mode     2014-09-19   \n",
       "19     2017-06-08       Femicide    22     2014-11-22   \n",
       "\n",
       "                                             Location  \\\n",
       "0                       Gaintume village, Meru County   \n",
       "1                     Mituri village, Kakamega county   \n",
       "2                        Umoja estate, Nairobi county   \n",
       "3                         Waiyaki way, Nairobi county   \n",
       "4                          Kitale, Trans Nzoia county   \n",
       "5                    Majungwani village, Kwale county   \n",
       "6                      Santonia court, Nairobi county   \n",
       "7                       Mathare North, Nairobi county   \n",
       "8                          kawangware, Nairobi county   \n",
       "9                        Naisambu, Trans Nzoia county   \n",
       "10                             Mwala, Machakos county   \n",
       "11            King'ori Estate Naivasha, Nakuru county   \n",
       "12                                            Unknown   \n",
       "13  Kavililo village, Nzauni location in Mwingi We...   \n",
       "14                     GSU headquaters, Kiambu county   \n",
       "15                  Kabitungu village, Kericho county   \n",
       "16                   Alpha House, Juja, Kiambu County   \n",
       "17                          Kamiti Corner in Kasarani   \n",
       "18               Highway Complex Lodge, Migory county   \n",
       "19                             Gigiri, Nairobi county   \n",
       "\n",
       "             suspect relationship Type of femicide  Murder Scene  \\\n",
       "0                         Husband         Intimate          home   \n",
       "1                   Family Member     Non-intimate  Public Space   \n",
       "2                         Husband         Intimate          home   \n",
       "3   Stranger/Unknown Relationship          Unknown  Public Space   \n",
       "4   Stranger/Unknown Relationship          Unknown          home   \n",
       "5                         husband         Intimate          home   \n",
       "6                       Boyfriend         Intimate          home   \n",
       "7                       Boyfriend         Intimate          home   \n",
       "8                       Boyfriend         Intimate  Public Space   \n",
       "9                    ex-boyfriend         Intimate  Public Space   \n",
       "10                     ex-husband         Intimate  Public Space   \n",
       "11         Friend/Known to victim     Non-intimate          home   \n",
       "12                        husband         Intimate          home   \n",
       "13                   Ex-boyfriend         Intimate          Home   \n",
       "14                        husband         Intimate          home   \n",
       "15                        husband         Intimate          home   \n",
       "16                           mode         Intimate          Home   \n",
       "17                        Husband         Intimate          Home   \n",
       "18                      Boyfriend         Intimate  Public Space   \n",
       "19                      Boyfriend         Intimate          home   \n",
       "\n",
       "   Mode of killing Circumstance     Verdict  \n",
       "0      blunt force     Argument      Guilty  \n",
       "1           hacked      Unknown      guilty  \n",
       "2      blunt force     Argument      guilty  \n",
       "3          Unknown      Unknown  Not Guilty  \n",
       "4          stabbed     Argument      guilty  \n",
       "5          stabbed     jealousy      guilty  \n",
       "6        strangled      Unknown     Unknown  \n",
       "7          stabbed   Denied sex      guilty  \n",
       "8          stabbed     Argument      guilty  \n",
       "9          stabbed      divorce      guilty  \n",
       "10         stabbed     Argument  Not guilty  \n",
       "11         stabbed     jealousy      guilty  \n",
       "12           other      Unknown      guilty  \n",
       "13         stabbed      Unknown      Guilty  \n",
       "14       strangled     Argument     Unknown  \n",
       "15       strangled     Argument      guilty  \n",
       "16          burned      Unknown      Guilty  \n",
       "17            shot      Quarrel     Unknown  \n",
       "18         stabbed      Unknown      guilty  \n",
       "19           other      Unknown     Unknown  "
      ]
     },
     "execution_count": 20,
     "metadata": {},
     "output_type": "execute_result"
    }
   ],
   "source": [
    "df.head(20)"
   ]
  },
  {
   "cell_type": "markdown",
   "metadata": {},
   "source": [
    "## Exploratory Data Analysis (EDA)"
   ]
  },
  {
   "cell_type": "code",
   "execution_count": 16,
   "metadata": {},
   "outputs": [
    {
     "data": {
      "image/png": "[encoded data removed]",
      "text/plain": [
       "<Figure size 720x360 with 1 Axes>"
      ]
     },
     "metadata": {
      "needs_background": "light"
     },
     "output_type": "display_data"
    }
   ],
   "source": [
    "# Trend Over Time \n",
    "plt.figure(figsize=(10, 5))\n",
    "df['date of murder'].dt.year.value_counts().sort_index().plot(kind='bar')\n",
    "plt.title(\"Femicide Cases per Year\")\n",
    "plt.xlabel(\"Year\")\n",
    "plt.ylabel(\"Number of Cases\")\n",
    "plt.tight_layout()\n",
    "plt.show()"
   ]
  },
  {
   "cell_type": "code",
   "execution_count": 17,
   "metadata": {},
   "outputs": [
    {
     "data": {
      "image/png": "[encoded data removed]",
      "text/plain": [
       "<Figure size 720x360 with 1 Axes>"
      ]
     },
     "metadata": {
      "needs_background": "light"
     },
     "output_type": "display_data"
    }
   ],
   "source": [
    "# Seasonal Trend \n",
    "plt.figure(figsize=(10, 5))\n",
    "df['date of murder'].dt.month.value_counts().sort_index().plot(kind='bar', color='orange')\n",
    "plt.title(\"Femicide Cases by Month\")\n",
    "plt.xlabel(\"Month\")\n",
    "plt.ylabel(\"Number of Cases\")\n",
    "plt.xticks(ticks=range(12), labels=[\n",
    "    'Jan', 'Feb', 'Mar', 'Apr', 'May', 'Jun',\n",
    "    'Jul', 'Aug', 'Sep', 'Oct', 'Nov', 'Dec'])\n",
    "plt.tight_layout()\n",
    "plt.show()\n"
   ]
  },
  {
   "cell_type": "code",
   "execution_count": 18,
   "metadata": {},
   "outputs": [
    {
     "data": {
      "image/png": "[encoded data removed]",
      "text/plain": [
       "<Figure size 1080x720 with 1 Axes>"
      ]
     },
     "metadata": {
      "needs_background": "light"
     },
     "output_type": "display_data"
    }
   ],
   "source": [
    "# Geographic Patterns \n",
    "plt.figure(figsize=(15, 10))\n",
    "df['Location'].value_counts().head(30).plot(kind='barh')\n",
    "plt.title(\"Top 30 Locations with Most Femicide Cases\")\n",
    "plt.xlabel(\"Number of Cases\")\n",
    "plt.gca().invert_yaxis()\n",
    "plt.tight_layout()\n",
    "plt.show()"
   ]
  },
  {
   "cell_type": "code",
   "execution_count": 19,
   "metadata": {},
   "outputs": [
    {
     "ename": "TypeError",
     "evalue": "'value' must be an instance of str or bytes, not a float",
     "output_type": "error",
     "traceback": [
      "\u001b[1;31m---------------------------------------------------------------------------\u001b[0m",
      "\u001b[1;31mTypeError\u001b[0m                                 Traceback (most recent call last)",
      "\u001b[1;32m<ipython-input-19-ffb40fc1a5b5>\u001b[0m in \u001b[0;36m<module>\u001b[1;34m\u001b[0m\n\u001b[0;32m      1\u001b[0m \u001b[1;31m#  Age Distribution\u001b[0m\u001b[1;33m\u001b[0m\u001b[1;33m\u001b[0m\u001b[1;33m\u001b[0m\u001b[0m\n\u001b[0;32m      2\u001b[0m \u001b[0mplt\u001b[0m\u001b[1;33m.\u001b[0m\u001b[0mfigure\u001b[0m\u001b[1;33m(\u001b[0m\u001b[0mfigsize\u001b[0m\u001b[1;33m=\u001b[0m\u001b[1;33m(\u001b[0m\u001b[1;36m10\u001b[0m\u001b[1;33m,\u001b[0m \u001b[1;36m5\u001b[0m\u001b[1;33m)\u001b[0m\u001b[1;33m)\u001b[0m\u001b[1;33m\u001b[0m\u001b[1;33m\u001b[0m\u001b[0m\n\u001b[1;32m----> 3\u001b[1;33m \u001b[0msns\u001b[0m\u001b[1;33m.\u001b[0m\u001b[0mhistplot\u001b[0m\u001b[1;33m(\u001b[0m\u001b[0mdf\u001b[0m\u001b[1;33m[\u001b[0m\u001b[1;34m'Age'\u001b[0m\u001b[1;33m]\u001b[0m\u001b[1;33m.\u001b[0m\u001b[0mdropna\u001b[0m\u001b[1;33m(\u001b[0m\u001b[1;33m)\u001b[0m\u001b[1;33m,\u001b[0m \u001b[0mbins\u001b[0m\u001b[1;33m=\u001b[0m\u001b[1;36m20\u001b[0m\u001b[1;33m,\u001b[0m \u001b[0mkde\u001b[0m\u001b[1;33m=\u001b[0m\u001b[1;32mTrue\u001b[0m\u001b[1;33m,\u001b[0m \u001b[0mcolor\u001b[0m\u001b[1;33m=\u001b[0m\u001b[1;34m'teal'\u001b[0m\u001b[1;33m)\u001b[0m\u001b[1;33m\u001b[0m\u001b[1;33m\u001b[0m\u001b[0m\n\u001b[0m\u001b[0;32m      4\u001b[0m \u001b[0mplt\u001b[0m\u001b[1;33m.\u001b[0m\u001b[0mtitle\u001b[0m\u001b[1;33m(\u001b[0m\u001b[1;34m\"Age Distribution of Victims\"\u001b[0m\u001b[1;33m)\u001b[0m\u001b[1;33m\u001b[0m\u001b[1;33m\u001b[0m\u001b[0m\n\u001b[0;32m      5\u001b[0m \u001b[0mplt\u001b[0m\u001b[1;33m.\u001b[0m\u001b[0mxlabel\u001b[0m\u001b[1;33m(\u001b[0m\u001b[1;34m\"Age\"\u001b[0m\u001b[1;33m)\u001b[0m\u001b[1;33m\u001b[0m\u001b[1;33m\u001b[0m\u001b[0m\n",
      "\u001b[1;32m~\\anaconda3\\envs\\learn-env\\lib\\site-packages\\seaborn\\distributions.py\u001b[0m in \u001b[0;36mhistplot\u001b[1;34m(data, x, y, hue, weights, stat, bins, binwidth, binrange, discrete, cumulative, common_bins, common_norm, multiple, element, fill, shrink, kde, kde_kws, line_kws, thresh, pthresh, pmax, cbar, cbar_ax, cbar_kws, palette, hue_order, hue_norm, color, log_scale, legend, ax, **kwargs)\u001b[0m\n\u001b[0;32m   1403\u001b[0m \u001b[1;33m\u001b[0m\u001b[0m\n\u001b[0;32m   1404\u001b[0m     \u001b[1;31m# Attach the axes to the plotter, setting up unit conversions\u001b[0m\u001b[1;33m\u001b[0m\u001b[1;33m\u001b[0m\u001b[1;33m\u001b[0m\u001b[0m\n\u001b[1;32m-> 1405\u001b[1;33m     \u001b[0mp\u001b[0m\u001b[1;33m.\u001b[0m\u001b[0m_attach\u001b[0m\u001b[1;33m(\u001b[0m\u001b[0max\u001b[0m\u001b[1;33m,\u001b[0m \u001b[0mlog_scale\u001b[0m\u001b[1;33m=\u001b[0m\u001b[0mlog_scale\u001b[0m\u001b[1;33m)\u001b[0m\u001b[1;33m\u001b[0m\u001b[1;33m\u001b[0m\u001b[0m\n\u001b[0m\u001b[0;32m   1406\u001b[0m \u001b[1;33m\u001b[0m\u001b[0m\n\u001b[0;32m   1407\u001b[0m     \u001b[1;31m# Default to discrete bins for categorical variables\u001b[0m\u001b[1;33m\u001b[0m\u001b[1;33m\u001b[0m\u001b[1;33m\u001b[0m\u001b[0m\n",
      "\u001b[1;32m~\\anaconda3\\envs\\learn-env\\lib\\site-packages\\seaborn\\_core.py\u001b[0m in \u001b[0;36m_attach\u001b[1;34m(self, obj, allowed_types, log_scale)\u001b[0m\n\u001b[0;32m   1114\u001b[0m                 \u001b[1;32mif\u001b[0m \u001b[0mvar_type\u001b[0m \u001b[1;33m==\u001b[0m \u001b[1;34m\"categorical\"\u001b[0m\u001b[1;33m:\u001b[0m\u001b[1;33m\u001b[0m\u001b[1;33m\u001b[0m\u001b[0m\n\u001b[0;32m   1115\u001b[0m                     \u001b[0mseed_data\u001b[0m \u001b[1;33m=\u001b[0m \u001b[0mcategorical_order\u001b[0m\u001b[1;33m(\u001b[0m\u001b[0mseed_data\u001b[0m\u001b[1;33m)\u001b[0m\u001b[1;33m\u001b[0m\u001b[1;33m\u001b[0m\u001b[0m\n\u001b[1;32m-> 1116\u001b[1;33m                 \u001b[0maxis\u001b[0m\u001b[1;33m.\u001b[0m\u001b[0mupdate_units\u001b[0m\u001b[1;33m(\u001b[0m\u001b[0mseed_data\u001b[0m\u001b[1;33m)\u001b[0m\u001b[1;33m\u001b[0m\u001b[1;33m\u001b[0m\u001b[0m\n\u001b[0m\u001b[0;32m   1117\u001b[0m \u001b[1;33m\u001b[0m\u001b[0m\n\u001b[0;32m   1118\u001b[0m         \u001b[1;31m# For categorical y, we want the \"first\" level to be at the top of the axis\u001b[0m\u001b[1;33m\u001b[0m\u001b[1;33m\u001b[0m\u001b[1;33m\u001b[0m\u001b[0m\n",
      "\u001b[1;32m~\\anaconda3\\envs\\learn-env\\lib\\site-packages\\matplotlib\\axis.py\u001b[0m in \u001b[0;36mupdate_units\u001b[1;34m(self, data)\u001b[0m\n\u001b[0;32m   1461\u001b[0m         \u001b[0mneednew\u001b[0m \u001b[1;33m=\u001b[0m \u001b[0mself\u001b[0m\u001b[1;33m.\u001b[0m\u001b[0mconverter\u001b[0m \u001b[1;33m!=\u001b[0m \u001b[0mconverter\u001b[0m\u001b[1;33m\u001b[0m\u001b[1;33m\u001b[0m\u001b[0m\n\u001b[0;32m   1462\u001b[0m         \u001b[0mself\u001b[0m\u001b[1;33m.\u001b[0m\u001b[0mconverter\u001b[0m \u001b[1;33m=\u001b[0m \u001b[0mconverter\u001b[0m\u001b[1;33m\u001b[0m\u001b[1;33m\u001b[0m\u001b[0m\n\u001b[1;32m-> 1463\u001b[1;33m         \u001b[0mdefault\u001b[0m \u001b[1;33m=\u001b[0m \u001b[0mself\u001b[0m\u001b[1;33m.\u001b[0m\u001b[0mconverter\u001b[0m\u001b[1;33m.\u001b[0m\u001b[0mdefault_units\u001b[0m\u001b[1;33m(\u001b[0m\u001b[0mdata\u001b[0m\u001b[1;33m,\u001b[0m \u001b[0mself\u001b[0m\u001b[1;33m)\u001b[0m\u001b[1;33m\u001b[0m\u001b[1;33m\u001b[0m\u001b[0m\n\u001b[0m\u001b[0;32m   1464\u001b[0m         \u001b[1;32mif\u001b[0m \u001b[0mdefault\u001b[0m \u001b[1;32mis\u001b[0m \u001b[1;32mnot\u001b[0m \u001b[1;32mNone\u001b[0m \u001b[1;32mand\u001b[0m \u001b[0mself\u001b[0m\u001b[1;33m.\u001b[0m\u001b[0munits\u001b[0m \u001b[1;32mis\u001b[0m \u001b[1;32mNone\u001b[0m\u001b[1;33m:\u001b[0m\u001b[1;33m\u001b[0m\u001b[1;33m\u001b[0m\u001b[0m\n\u001b[0;32m   1465\u001b[0m             \u001b[0mself\u001b[0m\u001b[1;33m.\u001b[0m\u001b[0mset_units\u001b[0m\u001b[1;33m(\u001b[0m\u001b[0mdefault\u001b[0m\u001b[1;33m)\u001b[0m\u001b[1;33m\u001b[0m\u001b[1;33m\u001b[0m\u001b[0m\n",
      "\u001b[1;32m~\\anaconda3\\envs\\learn-env\\lib\\site-packages\\matplotlib\\category.py\u001b[0m in \u001b[0;36mdefault_units\u001b[1;34m(data, axis)\u001b[0m\n\u001b[0;32m    105\u001b[0m         \u001b[1;31m# the conversion call stack is default_units -> axis_info -> convert\u001b[0m\u001b[1;33m\u001b[0m\u001b[1;33m\u001b[0m\u001b[1;33m\u001b[0m\u001b[0m\n\u001b[0;32m    106\u001b[0m         \u001b[1;32mif\u001b[0m \u001b[0maxis\u001b[0m\u001b[1;33m.\u001b[0m\u001b[0munits\u001b[0m \u001b[1;32mis\u001b[0m \u001b[1;32mNone\u001b[0m\u001b[1;33m:\u001b[0m\u001b[1;33m\u001b[0m\u001b[1;33m\u001b[0m\u001b[0m\n\u001b[1;32m--> 107\u001b[1;33m             \u001b[0maxis\u001b[0m\u001b[1;33m.\u001b[0m\u001b[0mset_units\u001b[0m\u001b[1;33m(\u001b[0m\u001b[0mUnitData\u001b[0m\u001b[1;33m(\u001b[0m\u001b[0mdata\u001b[0m\u001b[1;33m)\u001b[0m\u001b[1;33m)\u001b[0m\u001b[1;33m\u001b[0m\u001b[1;33m\u001b[0m\u001b[0m\n\u001b[0m\u001b[0;32m    108\u001b[0m         \u001b[1;32melse\u001b[0m\u001b[1;33m:\u001b[0m\u001b[1;33m\u001b[0m\u001b[1;33m\u001b[0m\u001b[0m\n\u001b[0;32m    109\u001b[0m             \u001b[0maxis\u001b[0m\u001b[1;33m.\u001b[0m\u001b[0munits\u001b[0m\u001b[1;33m.\u001b[0m\u001b[0mupdate\u001b[0m\u001b[1;33m(\u001b[0m\u001b[0mdata\u001b[0m\u001b[1;33m)\u001b[0m\u001b[1;33m\u001b[0m\u001b[1;33m\u001b[0m\u001b[0m\n",
      "\u001b[1;32m~\\anaconda3\\envs\\learn-env\\lib\\site-packages\\matplotlib\\category.py\u001b[0m in \u001b[0;36m__init__\u001b[1;34m(self, data)\u001b[0m\n\u001b[0;32m    174\u001b[0m         \u001b[0mself\u001b[0m\u001b[1;33m.\u001b[0m\u001b[0m_counter\u001b[0m \u001b[1;33m=\u001b[0m \u001b[0mitertools\u001b[0m\u001b[1;33m.\u001b[0m\u001b[0mcount\u001b[0m\u001b[1;33m(\u001b[0m\u001b[1;33m)\u001b[0m\u001b[1;33m\u001b[0m\u001b[1;33m\u001b[0m\u001b[0m\n\u001b[0;32m    175\u001b[0m         \u001b[1;32mif\u001b[0m \u001b[0mdata\u001b[0m \u001b[1;32mis\u001b[0m \u001b[1;32mnot\u001b[0m \u001b[1;32mNone\u001b[0m\u001b[1;33m:\u001b[0m\u001b[1;33m\u001b[0m\u001b[1;33m\u001b[0m\u001b[0m\n\u001b[1;32m--> 176\u001b[1;33m             \u001b[0mself\u001b[0m\u001b[1;33m.\u001b[0m\u001b[0mupdate\u001b[0m\u001b[1;33m(\u001b[0m\u001b[0mdata\u001b[0m\u001b[1;33m)\u001b[0m\u001b[1;33m\u001b[0m\u001b[1;33m\u001b[0m\u001b[0m\n\u001b[0m\u001b[0;32m    177\u001b[0m \u001b[1;33m\u001b[0m\u001b[0m\n\u001b[0;32m    178\u001b[0m     \u001b[1;33m@\u001b[0m\u001b[0mstaticmethod\u001b[0m\u001b[1;33m\u001b[0m\u001b[1;33m\u001b[0m\u001b[0m\n",
      "\u001b[1;32m~\\anaconda3\\envs\\learn-env\\lib\\site-packages\\matplotlib\\category.py\u001b[0m in \u001b[0;36mupdate\u001b[1;34m(self, data)\u001b[0m\n\u001b[0;32m    209\u001b[0m         \u001b[1;32mfor\u001b[0m \u001b[0mval\u001b[0m \u001b[1;32min\u001b[0m \u001b[0mOrderedDict\u001b[0m\u001b[1;33m.\u001b[0m\u001b[0mfromkeys\u001b[0m\u001b[1;33m(\u001b[0m\u001b[0mdata\u001b[0m\u001b[1;33m)\u001b[0m\u001b[1;33m:\u001b[0m\u001b[1;33m\u001b[0m\u001b[1;33m\u001b[0m\u001b[0m\n\u001b[0;32m    210\u001b[0m             \u001b[1;31m# OrderedDict just iterates over unique values in data.\u001b[0m\u001b[1;33m\u001b[0m\u001b[1;33m\u001b[0m\u001b[1;33m\u001b[0m\u001b[0m\n\u001b[1;32m--> 211\u001b[1;33m             \u001b[0mcbook\u001b[0m\u001b[1;33m.\u001b[0m\u001b[0m_check_isinstance\u001b[0m\u001b[1;33m(\u001b[0m\u001b[1;33m(\u001b[0m\u001b[0mstr\u001b[0m\u001b[1;33m,\u001b[0m \u001b[0mbytes\u001b[0m\u001b[1;33m)\u001b[0m\u001b[1;33m,\u001b[0m \u001b[0mvalue\u001b[0m\u001b[1;33m=\u001b[0m\u001b[0mval\u001b[0m\u001b[1;33m)\u001b[0m\u001b[1;33m\u001b[0m\u001b[1;33m\u001b[0m\u001b[0m\n\u001b[0m\u001b[0;32m    212\u001b[0m             \u001b[1;32mif\u001b[0m \u001b[0mconvertible\u001b[0m\u001b[1;33m:\u001b[0m\u001b[1;33m\u001b[0m\u001b[1;33m\u001b[0m\u001b[0m\n\u001b[0;32m    213\u001b[0m                 \u001b[1;31m# this will only be called so long as convertible is True.\u001b[0m\u001b[1;33m\u001b[0m\u001b[1;33m\u001b[0m\u001b[1;33m\u001b[0m\u001b[0m\n",
      "\u001b[1;32m~\\anaconda3\\envs\\learn-env\\lib\\site-packages\\matplotlib\\cbook\\__init__.py\u001b[0m in \u001b[0;36m_check_isinstance\u001b[1;34m(_types, **kwargs)\u001b[0m\n\u001b[0;32m   2233\u001b[0m     \u001b[1;32mfor\u001b[0m \u001b[0mk\u001b[0m\u001b[1;33m,\u001b[0m \u001b[0mv\u001b[0m \u001b[1;32min\u001b[0m \u001b[0mkwargs\u001b[0m\u001b[1;33m.\u001b[0m\u001b[0mitems\u001b[0m\u001b[1;33m(\u001b[0m\u001b[1;33m)\u001b[0m\u001b[1;33m:\u001b[0m\u001b[1;33m\u001b[0m\u001b[1;33m\u001b[0m\u001b[0m\n\u001b[0;32m   2234\u001b[0m         \u001b[1;32mif\u001b[0m \u001b[1;32mnot\u001b[0m \u001b[0misinstance\u001b[0m\u001b[1;33m(\u001b[0m\u001b[0mv\u001b[0m\u001b[1;33m,\u001b[0m \u001b[0mtypes\u001b[0m\u001b[1;33m)\u001b[0m\u001b[1;33m:\u001b[0m\u001b[1;33m\u001b[0m\u001b[1;33m\u001b[0m\u001b[0m\n\u001b[1;32m-> 2235\u001b[1;33m             raise TypeError(\n\u001b[0m\u001b[0;32m   2236\u001b[0m                 \"{!r} must be an instance of {}, not a {}\".format(\n\u001b[0;32m   2237\u001b[0m                     \u001b[0mk\u001b[0m\u001b[1;33m,\u001b[0m\u001b[1;33m\u001b[0m\u001b[1;33m\u001b[0m\u001b[0m\n",
      "\u001b[1;31mTypeError\u001b[0m: 'value' must be an instance of str or bytes, not a float"
     ]
    },
    {
     "data": {
      "image/png": "[encoded data removed]",
      "text/plain": [
       "<Figure size 720x360 with 1 Axes>"
      ]
     },
     "metadata": {
      "needs_background": "light"
     },
     "output_type": "display_data"
    }
   ],
   "source": [
    "#  Age Distribution \n",
    "plt.figure(figsize=(10, 5))\n",
    "sns.histplot(df['Age'].dropna(), bins=20, kde=True, color='teal')\n",
    "plt.title(\"Age Distribution of Victims\")\n",
    "plt.xlabel(\"Age\")\n",
    "plt.ylabel(\"Count\")\n",
    "plt.tight_layout()\n",
    "plt.show()"
   ]
  },
  {
   "cell_type": "code",
   "execution_count": 21,
   "metadata": {},
   "outputs": [
    {
     "data": {
      "image/png": "[encoded data removed]",
      "text/plain": [
       "<Figure size 720x720 with 1 Axes>"
      ]
     },
     "metadata": {
      "needs_background": "light"
     },
     "output_type": "display_data"
    }
   ],
   "source": [
    "# Suspect Relationship\n",
    "plt.figure(figsize=(10, 10))\n",
    "df['suspect relationship'].value_counts().head(10).plot(kind='bar')\n",
    "plt.title(\"Suspect Relationship to Victim\")\n",
    "plt.xlabel(\"Relationship\")\n",
    "plt.ylabel(\"Frequency\")\n",
    "plt.tight_layout()\n",
    "plt.show()"
   ]
  },
  {
   "cell_type": "code",
   "execution_count": 22,
   "metadata": {},
   "outputs": [
    {
     "data": {
      "image/png": "[encoded data removed]",
      "text/plain": [
       "<Figure size 576x360 with 1 Axes>"
      ]
     },
     "metadata": {},
     "output_type": "display_data"
    }
   ],
   "source": [
    "# Type of Femicide \n",
    "plt.figure(figsize=(8, 5))\n",
    "df['Type of femicide'].value_counts().plot(kind='pie', autopct='%1.1f%%', startangle=90)\n",
    "plt.title(\"Type of Femicide\")\n",
    "plt.ylabel(\"\")\n",
    "plt.tight_layout()\n",
    "plt.show()"
   ]
  },
  {
   "cell_type": "code",
   "execution_count": 23,
   "metadata": {},
   "outputs": [
    {
     "data": {
      "image/png": "[encoded data removed]",
      "text/plain": [
       "<Figure size 720x360 with 1 Axes>"
      ]
     },
     "metadata": {
      "needs_background": "light"
     },
     "output_type": "display_data"
    }
   ],
   "source": [
    "# Mode of Killing \n",
    "plt.figure(figsize=(10, 5))\n",
    "df['Mode of killing'].value_counts().head(10).plot(kind='bar')\n",
    "plt.title(\"Mode of Killing\")\n",
    "plt.xlabel(\"Method\")\n",
    "plt.ylabel(\"Frequency\")\n",
    "plt.tight_layout()\n",
    "plt.show()"
   ]
  },
  {
   "cell_type": "code",
   "execution_count": 24,
   "metadata": {},
   "outputs": [
    {
     "data": {
      "image/png": "[encoded data removed]",
      "text/plain": [
       "<Figure size 720x360 with 1 Axes>"
      ]
     },
     "metadata": {
      "needs_background": "light"
     },
     "output_type": "display_data"
    }
   ],
   "source": [
    "#  Verdict Analysis \n",
    "# normalise casing \n",
    "df['Verdict'] = df['Verdict'].str.strip().str.capitalize()\n",
    "\n",
    "plt.figure(figsize=(10, 5))\n",
    "df['Verdict'].value_counts().plot(kind='bar', color='green')\n",
    "plt.title(\"Court Verdict Outcomes\")\n",
    "plt.xlabel(\"Verdict\")\n",
    "plt.ylabel(\"Count\")\n",
    "plt.tight_layout()\n",
    "plt.show()"
   ]
  },
  {
   "cell_type": "markdown",
   "metadata": {},
   "source": [
    "## Data Preprocessing and Validation"
   ]
  },
  {
   "cell_type": "code",
   "execution_count": null,
   "metadata": {},
   "outputs": [],
   "source": []
  }
 ],
 "metadata": {
  "kernelspec": {
   "display_name": "python (learn-env)",
   "language": "python",
   "name": "learn-env"
  },
  "language_info": {
   "codemirror_mode": {
    "name": "ipython",
    "version": 3
   },
   "file_extension": ".py",
   "mimetype": "text/x-python",
   "name": "python",
   "nbconvert_exporter": "python",
   "pygments_lexer": "ipython3",
   "version": "3.8.5"
  }
 },
 "nbformat": 4,
 "nbformat_minor": 4
}
