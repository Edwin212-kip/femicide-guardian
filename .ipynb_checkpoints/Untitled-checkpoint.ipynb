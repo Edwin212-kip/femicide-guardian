{
 "cells": [
  {
   "cell_type": "markdown",
   "metadata": {},
   "source": [
    "Femicide — the gender-based killing of women — is an escalating crisis in Kenya.\n",
    "Despite frequent media reports, data science has not been widely used to uncover trends,\n",
    "identify hotspots, or support prevention efforts"
   ]
  },
  {
   "cell_type": "markdown",
   "metadata": {},
   "source": [
    "# Goal \n",
    "To analyze and predict femicide patterns in Kenya using available data.\n"
   ]
  },
  {
   "cell_type": "markdown",
   "metadata": {},
   "source": [
    " # Project objectives\n",
    "- To perform comprehensive data preprocessing and validation on the femicide dataset, ensuring accuracy, completeness, and consistency for meaningful analysis.\n",
    "\n",
    "- To conduct advanced exploratory data analysis (EDA), including temporal trend detection, geospatial mapping, and demographic profiling of both victims and perpetrators.\n",
    "\n",
    "- To identify key socio-demographic and situational factors associated with femicide cases through statistical inference and feature correlation analysis.\n",
    "\n",
    "- To develop and evaluate machine learning models capable of predicting the likelihood or severity of a femicide case, using classification algorithms such as Logistic Regression, Random Forest, and Gradient Boosting.\n",
    "\n",
    "- To apply natural language processing (NLP) techniques to extract actionable insights from narrative case summaries or media reports, including topic modeling and sentiment analysis (if text data is available).\n",
    "\n",
    "- To design and deploy an interactive, user-friendly dashboard using Streamlit, enabling stakeholders such as NGOs, researchers, and policymakers to explore femicide patterns dynamically.\n",
    "\n",
    "- To document all processes and findings in a reproducible, ethical, and transparent manner, aligning with data for good practices and promoting responsible AI in gender-based violence research.\n"
   ]
  },
  {
   "cell_type": "markdown",
   "metadata": {},
   "source": [
    "# Stakeholders\n",
    "- NGOs / Gender Rights Organizations: Advocacy, public campaigns\n",
    "- County Governments: Targeted interventions, policy design\n",
    "- Journalists & Activists: Case insights, trend verification\n",
    "- Researchers: Academic & policy research\n",
    "- General Public: Awareness through visualizations"
   ]
  },
  {
   "cell_type": "markdown",
   "metadata": {},
   "source": [
    " ## Importing Libraries and Loading Data"
   ]
  },
  {
   "cell_type": "code",
   "execution_count": 1,
   "metadata": {},
   "outputs": [
    {
     "name": "stderr",
     "output_type": "stream",
     "text": [
      "[nltk_data] Downloading package punkt to\n",
      "[nltk_data]     C:\\Users\\HP\\AppData\\Roaming\\nltk_data...\n",
      "[nltk_data]   Package punkt is already up-to-date!\n",
      "[nltk_data] Downloading package stopwords to\n",
      "[nltk_data]     C:\\Users\\HP\\AppData\\Roaming\\nltk_data...\n",
      "[nltk_data]   Package stopwords is already up-to-date!\n",
      "[nltk_data] Downloading package wordnet to\n",
      "[nltk_data]     C:\\Users\\HP\\AppData\\Roaming\\nltk_data...\n",
      "[nltk_data]   Package wordnet is already up-to-date!\n",
      "[nltk_data] Downloading package omw-1.4 to\n",
      "[nltk_data]     C:\\Users\\HP\\AppData\\Roaming\\nltk_data...\n",
      "[nltk_data]   Package omw-1.4 is already up-to-date!\n"
     ]
    }
   ],
   "source": [
    "import pandas as pd\n",
    "import matplotlib.pyplot as plt\n",
    "import seaborn as sns\n",
    "import numpy as np\n",
    "\n",
    "import nltk\n",
    "nltk.download('punkt')\n",
    "nltk.download('stopwords')\n",
    "nltk.download('wordnet')\n",
    "nltk.download('omw-1.4')\n",
    "\n",
    "from sklearn.model_selection import train_test_split\n",
    "from sklearn.preprocessing import LabelEncoder\n",
    "from sklearn.metrics import classification_report, confusion_matrix, roc_auc_score, RocCurveDisplay\n",
    "from sklearn.linear_model import LogisticRegression\n",
    "from sklearn.ensemble import RandomForestClassifier, GradientBoostingClassifier\n",
    "\n",
    "import warnings\n",
    "warnings.filterwarnings('ignore')"
   ]
  },
  {
   "cell_type": "code",
   "execution_count": 2,
   "metadata": {},
   "outputs": [],
   "source": [
    "# Load the Excel file (make sure it's in the same folder or set the correct path)\n",
    "file_path = 'kenya-femicide-data_2016_dec2023 (3).xlsx'\n",
    "df = pd.read_excel(file_path, sheet_name='Femicide')"
   ]
  },
  {
   "cell_type": "code",
   "execution_count": 3,
   "metadata": {},
   "outputs": [
    {
     "data": {
      "text/plain": [
       "(507, 24)"
      ]
     },
     "execution_count": 3,
     "metadata": {},
     "output_type": "execute_result"
    }
   ],
   "source": [
    "df.shape"
   ]
  },
  {
   "cell_type": "code",
   "execution_count": 4,
   "metadata": {},
   "outputs": [
    {
     "data": {
      "text/html": [
       "<div>\n",
       "<style scoped>\n",
       "    .dataframe tbody tr th:only-of-type {\n",
       "        vertical-align: middle;\n",
       "    }\n",
       "\n",
       "    .dataframe tbody tr th {\n",
       "        vertical-align: top;\n",
       "    }\n",
       "\n",
       "    .dataframe thead th {\n",
       "        text-align: right;\n",
       "    }\n",
       "</style>\n",
       "<table border=\"1\" class=\"dataframe\">\n",
       "  <thead>\n",
       "    <tr style=\"text-align: right;\">\n",
       "      <th></th>\n",
       "      <th>url</th>\n",
       "      <th>title</th>\n",
       "      <th>author_name</th>\n",
       "      <th>medium</th>\n",
       "      <th>country_name</th>\n",
       "      <th>text</th>\n",
       "      <th>published_date</th>\n",
       "      <th>type of murder</th>\n",
       "      <th>name of victim</th>\n",
       "      <th>Age</th>\n",
       "      <th>...</th>\n",
       "      <th>Type of femicide</th>\n",
       "      <th>Murder Scene</th>\n",
       "      <th>Mode of killing</th>\n",
       "      <th>Circumstance</th>\n",
       "      <th>Status on article date</th>\n",
       "      <th>Court date (first appearance)</th>\n",
       "      <th>verdict date</th>\n",
       "      <th>Verdict</th>\n",
       "      <th>Years of sentence</th>\n",
       "      <th>Days to verdict</th>\n",
       "    </tr>\n",
       "  </thead>\n",
       "  <tbody>\n",
       "    <tr>\n",
       "      <th>0</th>\n",
       "      <td>http://www.standardmedia.co.ke/article/2000218...</td>\n",
       "      <td>Meru man who killed drunk wife sentenced to hang</td>\n",
       "      <td>Lydiah Nyawira</td>\n",
       "      <td>Standard Digital (Kenya)</td>\n",
       "      <td>Kenya</td>\n",
       "      <td>On August 12, 2005 at around 7pm, Joyce Gacher...</td>\n",
       "      <td>2016-10-05</td>\n",
       "      <td>Femicide</td>\n",
       "      <td>Dorcas Kaguri</td>\n",
       "      <td>Unknown</td>\n",
       "      <td>...</td>\n",
       "      <td>Intimate</td>\n",
       "      <td>home</td>\n",
       "      <td>blunt force</td>\n",
       "      <td>Argument</td>\n",
       "      <td>Unknown</td>\n",
       "      <td>2005-08-13 00:00:00</td>\n",
       "      <td>2016-06-24 00:00:00</td>\n",
       "      <td>Guilty</td>\n",
       "      <td>Death</td>\n",
       "      <td>4061.0</td>\n",
       "    </tr>\n",
       "    <tr>\n",
       "      <th>1</th>\n",
       "      <td>http://www.standardmedia.co.ke/article/2001300...</td>\n",
       "      <td>Court: Kakamega man guilty of raping, killing ...</td>\n",
       "      <td>Jack Murima</td>\n",
       "      <td>Standard Digital (Kenya)</td>\n",
       "      <td>Kenya</td>\n",
       "      <td>Jack Murima - Sun, 28. October 2018 12:54 PM -...</td>\n",
       "      <td>2018-10-29</td>\n",
       "      <td>Femicide</td>\n",
       "      <td>Selina Ikambi Anasi</td>\n",
       "      <td>79</td>\n",
       "      <td>...</td>\n",
       "      <td>Non-intimate</td>\n",
       "      <td>Public Space</td>\n",
       "      <td>hacked</td>\n",
       "      <td>Unknown</td>\n",
       "      <td>Unknown</td>\n",
       "      <td>Unknown</td>\n",
       "      <td>2018-10-28 00:00:00</td>\n",
       "      <td>guilty</td>\n",
       "      <td>awaiting ruling</td>\n",
       "      <td>2817.0</td>\n",
       "    </tr>\n",
       "    <tr>\n",
       "      <th>2</th>\n",
       "      <td>http://www.standardmedia.co.ke/article/2001241...</td>\n",
       "      <td>My wife 'died from fall in fight over volume o...</td>\n",
       "      <td>Kamau Muthoni</td>\n",
       "      <td>Standard Digital (Kenya)</td>\n",
       "      <td>Kenya</td>\n",
       "      <td>Former journalist Moses Dola Otieno yesterday ...</td>\n",
       "      <td>2017-05-25</td>\n",
       "      <td>Femicide</td>\n",
       "      <td>Wambui Kabiru</td>\n",
       "      <td>Unknown</td>\n",
       "      <td>...</td>\n",
       "      <td>Intimate</td>\n",
       "      <td>home</td>\n",
       "      <td>blunt force</td>\n",
       "      <td>Argument</td>\n",
       "      <td>Unknown</td>\n",
       "      <td>Unknown</td>\n",
       "      <td>2018-10-05 00:00:00</td>\n",
       "      <td>guilty</td>\n",
       "      <td>10</td>\n",
       "      <td>2714.0</td>\n",
       "    </tr>\n",
       "    <tr>\n",
       "      <th>3</th>\n",
       "      <td>http://www.nation.co.ke/news/Kabogo-cleared-Me...</td>\n",
       "      <td>Kabogo cleared in varsity student's murder case</td>\n",
       "      <td>ELISHA OTIENO</td>\n",
       "      <td>Daily Nation (Kenya)</td>\n",
       "      <td>Kenya</td>\n",
       "      <td>Kiambu Governor Kabogo and five others adverse...</td>\n",
       "      <td>2016-10-07</td>\n",
       "      <td>Femicide</td>\n",
       "      <td>Mercy Keino</td>\n",
       "      <td>Unknown</td>\n",
       "      <td>...</td>\n",
       "      <td>Unknown</td>\n",
       "      <td>Public Space</td>\n",
       "      <td>Unknown</td>\n",
       "      <td>Unknown</td>\n",
       "      <td>Unknown</td>\n",
       "      <td>Unknown</td>\n",
       "      <td>2016-10-07 00:00:00</td>\n",
       "      <td>Not Guilty</td>\n",
       "      <td>Freed</td>\n",
       "      <td>1939.0</td>\n",
       "    </tr>\n",
       "    <tr>\n",
       "      <th>4</th>\n",
       "      <td>http://www.mediamaxnetwork.co.ke/news/pastor-t...</td>\n",
       "      <td>Pastor to serve 25 years in jail for defiling,...</td>\n",
       "      <td>People Daily</td>\n",
       "      <td>MediaMax Network</td>\n",
       "      <td>Kenya</td>\n",
       "      <td>Musa Wekesa A pastor from Kitale has been sent...</td>\n",
       "      <td>2019-05-25</td>\n",
       "      <td>Femicide</td>\n",
       "      <td>Scholastica Mmbihi</td>\n",
       "      <td>Unknown</td>\n",
       "      <td>...</td>\n",
       "      <td>Unknown</td>\n",
       "      <td>home</td>\n",
       "      <td>stabbed</td>\n",
       "      <td>Argument</td>\n",
       "      <td>Unknown</td>\n",
       "      <td>Unknown</td>\n",
       "      <td>2019-05-25 00:00:00</td>\n",
       "      <td>guilty</td>\n",
       "      <td>25</td>\n",
       "      <td>2879.0</td>\n",
       "    </tr>\n",
       "  </tbody>\n",
       "</table>\n",
       "<p>5 rows × 24 columns</p>\n",
       "</div>"
      ],
      "text/plain": [
       "                                                 url  \\\n",
       "0  http://www.standardmedia.co.ke/article/2000218...   \n",
       "1  http://www.standardmedia.co.ke/article/2001300...   \n",
       "2  http://www.standardmedia.co.ke/article/2001241...   \n",
       "3  http://www.nation.co.ke/news/Kabogo-cleared-Me...   \n",
       "4  http://www.mediamaxnetwork.co.ke/news/pastor-t...   \n",
       "\n",
       "                                               title     author_name  \\\n",
       "0   Meru man who killed drunk wife sentenced to hang  Lydiah Nyawira   \n",
       "1  Court: Kakamega man guilty of raping, killing ...     Jack Murima   \n",
       "2  My wife 'died from fall in fight over volume o...   Kamau Muthoni   \n",
       "3    Kabogo cleared in varsity student's murder case   ELISHA OTIENO   \n",
       "4  Pastor to serve 25 years in jail for defiling,...    People Daily   \n",
       "\n",
       "                     medium country_name  \\\n",
       "0  Standard Digital (Kenya)        Kenya   \n",
       "1  Standard Digital (Kenya)        Kenya   \n",
       "2  Standard Digital (Kenya)        Kenya   \n",
       "3      Daily Nation (Kenya)        Kenya   \n",
       "4          MediaMax Network        Kenya   \n",
       "\n",
       "                                                text published_date  \\\n",
       "0  On August 12, 2005 at around 7pm, Joyce Gacher...     2016-10-05   \n",
       "1  Jack Murima - Sun, 28. October 2018 12:54 PM -...     2018-10-29   \n",
       "2  Former journalist Moses Dola Otieno yesterday ...     2017-05-25   \n",
       "3  Kiambu Governor Kabogo and five others adverse...     2016-10-07   \n",
       "4  Musa Wekesa A pastor from Kitale has been sent...     2019-05-25   \n",
       "\n",
       "  type of murder       name of victim      Age  ... Type of femicide  \\\n",
       "0       Femicide        Dorcas Kaguri  Unknown  ...         Intimate   \n",
       "1       Femicide  Selina Ikambi Anasi       79  ...     Non-intimate   \n",
       "2       Femicide        Wambui Kabiru  Unknown  ...         Intimate   \n",
       "3       Femicide          Mercy Keino  Unknown  ...          Unknown   \n",
       "4       Femicide   Scholastica Mmbihi  Unknown  ...          Unknown   \n",
       "\n",
       "   Murder Scene Mode of killing Circumstance Status on article date  \\\n",
       "0          home     blunt force     Argument                Unknown   \n",
       "1  Public Space          hacked      Unknown                Unknown   \n",
       "2          home     blunt force     Argument                Unknown   \n",
       "3  Public Space         Unknown      Unknown                Unknown   \n",
       "4          home         stabbed     Argument                Unknown   \n",
       "\n",
       "  Court date (first appearance)         verdict date     Verdict  \\\n",
       "0           2005-08-13 00:00:00  2016-06-24 00:00:00      Guilty   \n",
       "1                       Unknown  2018-10-28 00:00:00      guilty   \n",
       "2                       Unknown  2018-10-05 00:00:00      guilty   \n",
       "3                       Unknown  2016-10-07 00:00:00  Not Guilty   \n",
       "4                       Unknown  2019-05-25 00:00:00      guilty   \n",
       "\n",
       "  Years of sentence Days to verdict  \n",
       "0             Death          4061.0  \n",
       "1   awaiting ruling          2817.0  \n",
       "2                10          2714.0  \n",
       "3             Freed          1939.0  \n",
       "4                25          2879.0  \n",
       "\n",
       "[5 rows x 24 columns]"
      ]
     },
     "execution_count": 4,
     "metadata": {},
     "output_type": "execute_result"
    }
   ],
   "source": [
    "#previewing the dataset\n",
    "df.head()"
   ]
  },
  {
   "cell_type": "code",
   "execution_count": 5,
   "metadata": {},
   "outputs": [
    {
     "name": "stdout",
     "output_type": "stream",
     "text": [
      "<class 'pandas.core.frame.DataFrame'>\n",
      "RangeIndex: 507 entries, 0 to 506\n",
      "Data columns (total 24 columns):\n",
      " #   Column                         Non-Null Count  Dtype         \n",
      "---  ------                         --------------  -----         \n",
      " 0   url                            507 non-null    object        \n",
      " 1   title                          479 non-null    object        \n",
      " 2   author_name                    473 non-null    object        \n",
      " 3   medium                         495 non-null    object        \n",
      " 4   country_name                   492 non-null    object        \n",
      " 5   text                           468 non-null    object        \n",
      " 6   published_date                 479 non-null    datetime64[ns]\n",
      " 7   type of murder                 507 non-null    object        \n",
      " 8   name of victim                 507 non-null    object        \n",
      " 9   Age                            507 non-null    object        \n",
      " 10  date of murder                 507 non-null    object        \n",
      " 11  Location                       505 non-null    object        \n",
      " 12  name of suspect                468 non-null    object        \n",
      " 13  suspect relationship           505 non-null    object        \n",
      " 14  Type of femicide               448 non-null    object        \n",
      " 15  Murder Scene                   507 non-null    object        \n",
      " 16  Mode of killing                507 non-null    object        \n",
      " 17  Circumstance                   438 non-null    object        \n",
      " 18  Status on article date         436 non-null    object        \n",
      " 19  Court date (first appearance)  408 non-null    object        \n",
      " 20  verdict date                   507 non-null    object        \n",
      " 21  Verdict                        406 non-null    object        \n",
      " 22  Years of sentence              405 non-null    object        \n",
      " 23  Days to verdict                36 non-null     float64       \n",
      "dtypes: datetime64[ns](1), float64(1), object(22)\n",
      "memory usage: 95.2+ KB\n"
     ]
    }
   ],
   "source": [
    "# Dataset Overview and Information\n",
    "df.info()"
   ]
  },
  {
   "cell_type": "markdown",
   "metadata": {},
   "source": [
    "##  Data Cleaning"
   ]
  },
  {
   "cell_type": "code",
   "execution_count": 6,
   "metadata": {},
   "outputs": [
    {
     "data": {
      "text/plain": [
       "['url',\n",
       " 'title',\n",
       " 'author_name',\n",
       " 'medium',\n",
       " 'country_name',\n",
       " 'text',\n",
       " 'published_date',\n",
       " 'type of murder',\n",
       " 'name of victim',\n",
       " 'Age',\n",
       " 'date of murder',\n",
       " 'Location',\n",
       " 'name of suspect',\n",
       " 'suspect relationship',\n",
       " 'Type of femicide',\n",
       " 'Murder Scene',\n",
       " 'Mode of killing',\n",
       " 'Circumstance',\n",
       " 'Status on article date',\n",
       " 'Court date (first appearance)',\n",
       " 'verdict date',\n",
       " 'Verdict',\n",
       " 'Years of sentence',\n",
       " 'Days to verdict']"
      ]
     },
     "execution_count": 6,
     "metadata": {},
     "output_type": "execute_result"
    }
   ],
   "source": [
    "# Preview column names\n",
    "df.columns.tolist()"
   ]
  },
  {
   "cell_type": "code",
   "execution_count": 7,
   "metadata": {},
   "outputs": [],
   "source": [
    "# Convert 'published_date', 'date_of_murder', and 'verdict_date' to datetime\n",
    "df['published_date'] = pd.to_datetime(df['published_date'], errors='coerce')\n",
    "df['date of murder'] = pd.to_datetime(df['date of murder'], errors='coerce')\n",
    "df['verdict date'] = pd.to_datetime(df['verdict date'], errors='coerce')"
   ]
  },
  {
   "cell_type": "code",
   "execution_count": 8,
   "metadata": {},
   "outputs": [],
   "source": [
    "# Clean age: convert to numeric, set errors to NaN\n",
    "df['Age'] = pd.to_numeric(df['Age'], errors='coerce')\n"
   ]
  },
  {
   "cell_type": "code",
   "execution_count": 9,
   "metadata": {},
   "outputs": [
    {
     "data": {
      "text/plain": [
       "Days to verdict                  471\n",
       "verdict date                     471\n",
       "Age                              195\n",
       "Years of sentence                102\n",
       "Verdict                          101\n",
       "Court date (first appearance)     99\n",
       "Status on article date            71\n",
       "Circumstance                      69\n",
       "Type of femicide                  59\n",
       "name of suspect                   39\n",
       "text                              39\n",
       "author_name                       34\n",
       "published_date                    28\n",
       "title                             28\n",
       "country_name                      15\n",
       "date of murder                    14\n",
       "medium                            12\n",
       "Location                           2\n",
       "suspect relationship               2\n",
       "type of murder                     0\n",
       "name of victim                     0\n",
       "Murder Scene                       0\n",
       "Mode of killing                    0\n",
       "url                                0\n",
       "dtype: int64"
      ]
     },
     "execution_count": 9,
     "metadata": {},
     "output_type": "execute_result"
    }
   ],
   "source": [
    "# Check for missing values\n",
    "missing = df.isnull().sum().sort_values(ascending=False)\n",
    "missing"
   ]
  },
  {
   "cell_type": "code",
   "execution_count": 10,
   "metadata": {},
   "outputs": [],
   "source": [
    "#drop not so important rows\n",
    "df.drop(['url','title', 'author_name', 'name of victim', 'medium', 'Status on article date'], axis=1, inplace=True)"
   ]
  },
  {
   "cell_type": "code",
   "execution_count": 11,
   "metadata": {},
   "outputs": [],
   "source": [
    "# drop rows with missing key data \n",
    "df = df.dropna(subset=['date of murder', 'Location', 'Circumstance', 'Type of femicide', 'name of suspect', 'Years of sentence', 'Days to verdict', 'Age'])\n"
   ]
  },
  {
   "cell_type": "code",
   "execution_count": 12,
   "metadata": {},
   "outputs": [],
   "source": [
    "# Fill missing values \n",
    "df['suspect relationship'] = df['suspect relationship'].fillna('mode')\n"
   ]
  },
  {
   "cell_type": "code",
   "execution_count": 13,
   "metadata": {},
   "outputs": [
    {
     "data": {
      "text/plain": [
       "Days to verdict                  0\n",
       "Years of sentence                0\n",
       "text                             0\n",
       "published_date                   0\n",
       "type of murder                   0\n",
       "Age                              0\n",
       "date of murder                   0\n",
       "Location                         0\n",
       "name of suspect                  0\n",
       "suspect relationship             0\n",
       "Type of femicide                 0\n",
       "Murder Scene                     0\n",
       "Mode of killing                  0\n",
       "Circumstance                     0\n",
       "Court date (first appearance)    0\n",
       "verdict date                     0\n",
       "Verdict                          0\n",
       "country_name                     0\n",
       "dtype: int64"
      ]
     },
     "execution_count": 13,
     "metadata": {},
     "output_type": "execute_result"
    }
   ],
   "source": [
    "missing = df.isnull().sum().sort_values(ascending=False)\n",
    "missing"
   ]
  },
  {
   "cell_type": "code",
   "execution_count": 14,
   "metadata": {},
   "outputs": [
    {
     "name": "stdout",
     "output_type": "stream",
     "text": [
      "country_name                             object\n",
      "text                                     object\n",
      "published_date                   datetime64[ns]\n",
      "type of murder                           object\n",
      "Age                                     float64\n",
      "date of murder                   datetime64[ns]\n",
      "Location                                 object\n",
      "name of suspect                          object\n",
      "suspect relationship                     object\n",
      "Type of femicide                         object\n",
      "Murder Scene                             object\n",
      "Mode of killing                          object\n",
      "Circumstance                             object\n",
      "Court date (first appearance)            object\n",
      "verdict date                     datetime64[ns]\n",
      "Verdict                                  object\n",
      "Years of sentence                        object\n",
      "Days to verdict                         float64\n",
      "dtype: object\n"
     ]
    }
   ],
   "source": [
    "# Confirm data types and clean preview\n",
    "print(df.dtypes)"
   ]
  },
  {
   "cell_type": "markdown",
   "metadata": {},
   "source": [
    "## Exploratory Data Analysis (EDA)"
   ]
  },
  {
   "cell_type": "code",
   "execution_count": 15,
   "metadata": {},
   "outputs": [
    {
     "data": {
      "image/png": "[encoded data removed]",
      "text/plain": [
       "<Figure size 720x360 with 1 Axes>"
      ]
     },
     "metadata": {
      "needs_background": "light"
     },
     "output_type": "display_data"
    }
   ],
   "source": [
    "# Trend Over Time \n",
    "plt.figure(figsize=(10, 5))\n",
    "df['date of murder'].dt.year.value_counts().sort_index().plot(kind='bar')\n",
    "plt.title(\"Femicide Cases per Year\")\n",
    "plt.xlabel(\"Year\")\n",
    "plt.ylabel(\"Number of Cases\")\n",
    "plt.tight_layout()\n",
    "plt.show()"
   ]
  },
  {
   "cell_type": "code",
   "execution_count": 16,
   "metadata": {},
   "outputs": [
    {
     "data": {
      "image/png": "[encoded data removed]",
      "text/plain": [
       "<Figure size 720x360 with 1 Axes>"
      ]
     },
     "metadata": {
      "needs_background": "light"
     },
     "output_type": "display_data"
    }
   ],
   "source": [
    "# Seasonal Trend \n",
    "plt.figure(figsize=(10, 5))\n",
    "df['date of murder'].dt.month.value_counts().sort_index().plot(kind='bar', color='orange')\n",
    "plt.title(\"Femicide Cases by Month\")\n",
    "plt.xlabel(\"Month\")\n",
    "plt.ylabel(\"Number of Cases\")\n",
    "plt.xticks(ticks=range(12), labels=[\n",
    "    'Jan', 'Feb', 'Mar', 'Apr', 'May', 'Jun',\n",
    "    'Jul', 'Aug', 'Sep', 'Oct', 'Nov', 'Dec'])\n",
    "plt.tight_layout()\n",
    "plt.show()\n"
   ]
  },
  {
   "cell_type": "code",
   "execution_count": 17,
   "metadata": {},
   "outputs": [
    {
     "data": {
      "image/png": "[encoded data removed]",
      "text/plain": [
       "<Figure size 720x360 with 1 Axes>"
      ]
     },
     "metadata": {
      "needs_background": "light"
     },
     "output_type": "display_data"
    }
   ],
   "source": [
    "# Geographic Patterns \n",
    "plt.figure(figsize=(10, 5))\n",
    "df['Location'].value_counts().head(30).plot(kind='barh')\n",
    "plt.title(\"Top 30 Locations with Most Femicide Cases\")\n",
    "plt.xlabel(\"Number of Cases\")\n",
    "plt.gca().invert_yaxis()\n",
    "plt.tight_layout()\n",
    "plt.show()"
   ]
  },
  {
   "cell_type": "code",
   "execution_count": 18,
   "metadata": {},
   "outputs": [
    {
     "data": {
      "image/png": "[encoded data removed]",
      "text/plain": [
       "<Figure size 720x360 with 1 Axes>"
      ]
     },
     "metadata": {
      "needs_background": "light"
     },
     "output_type": "display_data"
    }
   ],
   "source": [
    "#  Age Distribution \n",
    "plt.figure(figsize=(10, 5))\n",
    "sns.histplot(df['Age'].dropna(), bins=20, kde=True, color='teal')\n",
    "plt.title(\"Age Distribution of Victims\")\n",
    "plt.xlabel(\"Age\")\n",
    "plt.ylabel(\"Count\")\n",
    "plt.tight_layout()\n",
    "plt.show()"
   ]
  },
  {
   "cell_type": "code",
   "execution_count": 19,
   "metadata": {},
   "outputs": [
    {
     "data": {
      "image/png": "[encoded data removed]",
      "text/plain": [
       "<Figure size 720x720 with 1 Axes>"
      ]
     },
     "metadata": {
      "needs_background": "light"
     },
     "output_type": "display_data"
    }
   ],
   "source": [
    "# Suspect Relationship\n",
    "plt.figure(figsize=(10, 10))\n",
    "df['suspect relationship'].value_counts().head(10).plot(kind='bar')\n",
    "plt.title(\"Suspect Relationship to Victim\")\n",
    "plt.xlabel(\"Relationship\")\n",
    "plt.ylabel(\"Frequency\")\n",
    "plt.tight_layout()\n",
    "plt.show()"
   ]
  },
  {
   "cell_type": "code",
   "execution_count": 20,
   "metadata": {},
   "outputs": [
    {
     "data": {
      "image/png": "[encoded data removed]",
      "text/plain": [
       "<Figure size 576x360 with 1 Axes>"
      ]
     },
     "metadata": {},
     "output_type": "display_data"
    }
   ],
   "source": [
    "# Type of Femicide \n",
    "plt.figure(figsize=(8, 5))\n",
    "df['Type of femicide'].value_counts().plot(kind='pie', autopct='%1.1f%%', startangle=90)\n",
    "plt.title(\"Type of Femicide\")\n",
    "plt.ylabel(\"\")\n",
    "plt.tight_layout()\n",
    "plt.show()"
   ]
  },
  {
   "cell_type": "code",
   "execution_count": 21,
   "metadata": {},
   "outputs": [
    {
     "data": {
      "image/png": "[encoded data removed]",
      "text/plain": [
       "<Figure size 720x360 with 1 Axes>"
      ]
     },
     "metadata": {
      "needs_background": "light"
     },
     "output_type": "display_data"
    }
   ],
   "source": [
    "# Mode of Killing \n",
    "plt.figure(figsize=(10, 5))\n",
    "df['Mode of killing'].value_counts().head(10).plot(kind='bar')\n",
    "plt.title(\"Mode of Killing\")\n",
    "plt.xlabel(\"Method\")\n",
    "plt.ylabel(\"Frequency\")\n",
    "plt.tight_layout()\n",
    "plt.show()"
   ]
  },
  {
   "cell_type": "code",
   "execution_count": 22,
   "metadata": {},
   "outputs": [
    {
     "data": {
      "image/png": "[encoded data removed]",
      "text/plain": [
       "<Figure size 720x360 with 1 Axes>"
      ]
     },
     "metadata": {
      "needs_background": "light"
     },
     "output_type": "display_data"
    }
   ],
   "source": [
    "#  Verdict Analysis \n",
    "# normalise casing \n",
    "df['Verdict'] = df['Verdict'].str.strip().str.capitalize()\n",
    "\n",
    "plt.figure(figsize=(10, 5))\n",
    "df['Verdict'].value_counts().plot(kind='bar', color='green')\n",
    "plt.title(\"Court Verdict Outcomes\")\n",
    "plt.xlabel(\"Verdict\")\n",
    "plt.ylabel(\"Count\")\n",
    "plt.tight_layout()\n",
    "plt.show()"
   ]
  },
  {
   "cell_type": "code",
   "execution_count": 23,
   "metadata": {},
   "outputs": [
    {
     "data": {
      "image/png": "[encoded data removed]",
      "text/plain": [
       "<Figure size 720x360 with 1 Axes>"
      ]
     },
     "metadata": {
      "needs_background": "light"
     },
     "output_type": "display_data"
    }
   ],
   "source": [
    "# Time to Verdict \n",
    "plt.figure(figsize=(10, 5))\n",
    "sns.histplot(df['Days to verdict'].dropna(), bins=20, kde=True, color='purple')\n",
    "plt.title(\"Days to Verdict Distribution\")\n",
    "plt.xlabel(\"Days\")\n",
    "plt.ylabel(\"Number of Cases\")\n",
    "plt.tight_layout()\n",
    "plt.show()"
   ]
  },
  {
   "cell_type": "markdown",
   "metadata": {},
   "source": [
    "## Data Preprocessing and Validation"
   ]
  },
  {
   "cell_type": "code",
   "execution_count": null,
   "metadata": {},
   "outputs": [],
   "source": []
  }
 ],
 "metadata": {
  "kernelspec": {
   "display_name": "python (learn-env)",
   "language": "python",
   "name": "learn-env"
  },
  "language_info": {
   "codemirror_mode": {
    "name": "ipython",
    "version": 3
   },
   "file_extension": ".py",
   "mimetype": "text/x-python",
   "name": "python",
   "nbconvert_exporter": "python",
   "pygments_lexer": "ipython3",
   "version": "3.8.5"
  }
 },
 "nbformat": 4,
 "nbformat_minor": 4
}
